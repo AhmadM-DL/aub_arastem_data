{
 "cells": [
  {
   "cell_type": "code",
   "execution_count": 1,
   "metadata": {
    "id": "w5CrC1lgy9mc"
   },
   "outputs": [],
   "source": [
    "items= []\n",
    "text_filename = \"choose_the_correct_answer.txt\"\n",
    "text_file = open(text_filename, \"r\", encoding=\"utf-8\").read()"
   ]
  },
  {
   "cell_type": "code",
   "execution_count": 2,
   "metadata": {
    "id": "eSwJYZjVtjXY"
   },
   "outputs": [],
   "source": [
    "import json\n",
    "questions = []\n",
    "items = text_file.split(\"#\")\n",
    "for item in items:\n",
    "  if not item: continue\n",
    "  question = {}\n",
    "  parts = item.strip().split(\"\\n\")\n",
    "  question[\"question\"] = parts[0].strip()\n",
    "  question[\"answer\"] = {}\n",
    "  for i, option in enumerate(parts[1:]):\n",
    "    question[\"answer\"][f\"option_{i}\"] = \"-\".join(option.split(\"-\")[1:]).replace(\"$\",\"\").strip()\n",
    "    if \"$\" in option:\n",
    "      correct_option = i\n",
    "  question[\"answer\"][\"correct_option\"] =  correct_option\n",
    "  questions.append(question)"
   ]
  },
  {
   "cell_type": "code",
   "execution_count": 3,
   "metadata": {},
   "outputs": [
    {
     "data": {
      "text/plain": [
       "{'question': 'انتقال الماء من الجذور إلى الأوراق يتم وفق أي ترتيب مما يلي ؟',\n",
       " 'answer': {'option_0': 'الشعيرات الجذرية – اللحاء – القشرة – النسيج الميزوفيلي – البشرة العليا',\n",
       "  'option_1': 'الشعيرة الجذرية – القشرة – الخشب – النسيج الميزوفيلي (المتوسط) – الثغور',\n",
       "  'option_2': 'القشرة – الشعيرة الجذرية – اللحاء – الخلايا الإسفنجية – البشرة السفلى',\n",
       "  'option_3': 'البشرة – القشرة – الخشب – الخلايا العمادية',\n",
       "  'correct_option': 1}}"
      ]
     },
     "execution_count": 3,
     "metadata": {},
     "output_type": "execute_result"
    }
   ],
   "source": [
    "questions[0]"
   ]
  },
  {
   "cell_type": "code",
   "execution_count": null,
   "metadata": {},
   "outputs": [],
   "source": [
    "json.dump(questions, open(\"1500-bio-mcq-qa.json\", \"w\"), ensure_ascii=False)"
   ]
  }
 ],
 "metadata": {
  "colab": {
   "authorship_tag": "ABX9TyPKizS14Lff3wk9A3q07p/I",
   "mount_file_id": "1F8FFC1DqdzQGVd4ma50YowLNqVFW_3AB",
   "provenance": []
  },
  "kernelspec": {
   "display_name": ".venv",
   "language": "python",
   "name": "python3"
  },
  "language_info": {
   "codemirror_mode": {
    "name": "ipython",
    "version": 3
   },
   "file_extension": ".py",
   "mimetype": "text/x-python",
   "name": "python",
   "nbconvert_exporter": "python",
   "pygments_lexer": "ipython3",
   "version": "3.13.3"
  }
 },
 "nbformat": 4,
 "nbformat_minor": 0
}
