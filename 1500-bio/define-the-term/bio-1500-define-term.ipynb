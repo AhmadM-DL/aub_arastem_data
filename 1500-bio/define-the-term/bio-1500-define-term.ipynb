{
 "cells": [
  {
   "cell_type": "code",
   "execution_count": 1,
   "metadata": {
    "executionInfo": {
     "elapsed": 268,
     "status": "ok",
     "timestamp": 1716896272935,
     "user": {
      "displayName": "Ahmad Mustapha",
      "userId": "13718654423588217604"
     },
     "user_tz": -180
    },
    "id": "w5CrC1lgy9mc"
   },
   "outputs": [],
   "source": [
    "items= []\n",
    "text_filename = \"define-the-scientific-term.txt\"\n",
    "text_file = open(text_filename, \"r\", encoding=\"utf-8\").read()\n",
    "lines = text_file.split(\"\\n\")\n",
    "for line in lines:\n",
    "  if line:\n",
    "    item = {}\n",
    "    term = line.split(\":\")[0]\n",
    "    meaning = \":\".join(line.split(\":\")[1:])\n",
    "    term = term.replace(\"#\", \"\").strip()\n",
    "    item[\"term\"] = term\n",
    "    item[\"meaning\"] = meaning\n",
    "    items.append(item)"
   ]
  },
  {
   "cell_type": "code",
   "execution_count": 3,
   "metadata": {
    "executionInfo": {
     "elapsed": 414,
     "status": "ok",
     "timestamp": 1716896284501,
     "user": {
      "displayName": "Ahmad Mustapha",
      "userId": "13718654423588217604"
     },
     "user_tz": -180
    },
    "id": "m1Lu9Ja69902"
   },
   "outputs": [],
   "source": [
    "import re\n",
    "pattern = r'\\.'\n",
    "for item in items:\n",
    "   item[\"meaning\"] = re.sub(pattern, '', item[\"meaning\"])"
   ]
  },
  {
   "cell_type": "code",
   "execution_count": 4,
   "metadata": {
    "executionInfo": {
     "elapsed": 276,
     "status": "ok",
     "timestamp": 1716896299754,
     "user": {
      "displayName": "Ahmad Mustapha",
      "userId": "13718654423588217604"
     },
     "user_tz": -180
    },
    "id": "hb9bJIWs9NdW"
   },
   "outputs": [],
   "source": [
    "import random\n",
    "import json\n",
    "\n",
    "questions = []\n",
    "enumerated_items = {id:q for id,q in enumerate(items)}\n",
    "for id, item in enumerated_items.items():\n",
    "  correct_option = random.randint(0,3)\n",
    "  random_ids = random.sample([k for k in enumerated_items.keys() if k!=id], 4)\n",
    "\n",
    "  question= {}\n",
    "  question[\"question\"] = \"إختر تعريف مصطلح علوم الحياة التالي: \" + item[\"term\"]\n",
    "  question[\"answer\"] = {}\n",
    "  for i in [0, 1, 2, 3]:\n",
    "    if i==correct_option:\n",
    "      question[\"answer\"][f\"option_{correct_option}\"] = item[\"meaning\"]\n",
    "    else:\n",
    "      question[\"answer\"][f\"option_{i}\"] = enumerated_items[random_ids[i]][\"meaning\"]\n",
    "  question[\"answer\"][\"correct_option\"] = correct_option\n",
    "  questions.append(question)"
   ]
  },
  {
   "cell_type": "code",
   "execution_count": 5,
   "metadata": {},
   "outputs": [
    {
     "data": {
      "text/plain": [
       "{'question': 'إختر تعريف مصطلح علوم الحياة التالي: الانسياب السيتوبلازمي',\n",
       " 'answer': {'option_0': ' للتعبـير عـن سريـان الطاقـة في النظـام البيئـي وأنواعها',\n",
       "  'option_1': 'مستقبلات تتـأثر بـالمواد الكيميائيـة وهـي مسـتقبلات التذوق في اللسان ومستقبلات الشم في الغشاء المبطن للأنف',\n",
       "  'option_2': 'عملية نشطة لانتقال العصارة الناضـجة خـلال الأنابيـب الغربالية، اكتشفها ثاين وكـاني، ومصـدر طاقتهـا الخلايـا المرافقـة، وتبطـىء عنـد خفض الحرارة أو نقص الأكسجين ',\n",
       "  'option_3': 'غلاف من الميالين يحيط بمحور الخلية العصبية ',\n",
       "  'correct_option': 2}}"
      ]
     },
     "execution_count": 5,
     "metadata": {},
     "output_type": "execute_result"
    }
   ],
   "source": [
    "questions[0]"
   ]
  },
  {
   "cell_type": "code",
   "execution_count": null,
   "metadata": {
    "executionInfo": {
     "elapsed": 293,
     "status": "ok",
     "timestamp": 1716896313311,
     "user": {
      "displayName": "Ahmad Mustapha",
      "userId": "13718654423588217604"
     },
     "user_tz": -180
    },
    "id": "nF1BM93u9A_S"
   },
   "outputs": [],
   "source": [
    "json.dump(questions, open(\"1500-bio-define-qa.json\", \"w\", encoding=\"utf-8\"), ensure_ascii=False)"
   ]
  }
 ],
 "metadata": {
  "colab": {
   "authorship_tag": "ABX9TyNZvODTKhg/jUYCzsykMLxz",
   "mount_file_id": "1_y3G37HcBIvF0GQvni69xcQxuBzUZqOt",
   "provenance": []
  },
  "kernelspec": {
   "display_name": ".venv",
   "language": "python",
   "name": "python3"
  },
  "language_info": {
   "codemirror_mode": {
    "name": "ipython",
    "version": 3
   },
   "file_extension": ".py",
   "mimetype": "text/x-python",
   "name": "python",
   "nbconvert_exporter": "python",
   "pygments_lexer": "ipython3",
   "version": "3.13.3"
  }
 },
 "nbformat": 4,
 "nbformat_minor": 0
}
