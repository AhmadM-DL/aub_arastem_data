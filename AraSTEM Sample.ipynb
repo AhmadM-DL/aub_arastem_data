{
 "cells": [
  {
   "cell_type": "code",
   "execution_count": 2,
   "metadata": {
    "colab": {
     "background_save": true
    },
    "executionInfo": {
     "elapsed": 866,
     "status": "ok",
     "timestamp": 1717062110430,
     "user": {
      "displayName": "Ahmad Mustapha",
      "userId": "13718654423588217604"
     },
     "user_tz": -180
    },
    "id": "BXHj6O9hvgmT"
   },
   "outputs": [],
   "source": [
    "import json\n",
    "araSTEM = json.load(open(\"AraSTEMv3.json\", encoding=\"utf-8\"))"
   ]
  },
  {
   "cell_type": "code",
   "execution_count": 4,
   "metadata": {
    "colab": {
     "background_save": true,
     "base_uri": "https://localhost:8080/",
     "height": 885
    },
    "executionInfo": {
     "elapsed": 382,
     "status": "ok",
     "timestamp": 1717062156424,
     "user": {
      "displayName": "Ahmad Mustapha",
      "userId": "13718654423588217604"
     },
     "user_tz": -180
    },
    "id": "iyp5lPYwwFIf"
   },
   "outputs": [
    {
     "data": {
      "text/html": [
       "<div dir=\"rtl\">(0)-&nbspأوجد القاسم المشترك الأكبر 15 ، 20<br>&nbsp&nbspأ-&nbsp1<br>&nbsp&nbspب-&nbsp1 ، 5<br>&nbsp&nbspج-&nbsp5<br><br>(1)-&nbspفي المكتبة ٢٠ قلما أحمر و ٤٠ قلما أسود ، كم قلما في المكتبة <br>&nbsp&nbspأ-&nbsp٦٠<br>&nbsp&nbspب-&nbsp٤٢<br>&nbsp&nbspج-&nbsp٢٤<br><br>(2)-&nbspتحمل كل حافلة لنقل الركاب 18 راكبا ، فإذا كان كل كرسي يتسع لراكبين ، فما عدد الكراسي في 3 حافلات <br>&nbsp&nbspأ-&nbsp21<br>&nbsp&nbspب-&nbsp24<br>&nbsp&nbspج-&nbsp27<br><br>(3)-&nbspتكون الجسيمات في الحالة الصلبة<br>&nbsp&nbspأ-&nbspمتباعدة<br>&nbsp&nbspب-&nbspمتقاربة ومتراصة<br>&nbsp&nbspج-&nbspتنزلق<br><br>(4)-&nbspتنتقل الحرارة بالتوصيل بين جسمين اذا<br>&nbsp&nbspأ-&nbspتحركا<br>&nbsp&nbspب-&nbspتباعدا<br>&nbsp&nbspج-&nbspتلامسا<br>&nbsp&nbspد-&nbspكان احدهما سائلا والاخر غازا<br><br>(5)-&nbspتقوم الاوراق بعملية البناء الضوئي لصنع الغذاء للنبات<br>&nbsp&nbspأ-&nbspصح<br>&nbsp&nbspب-&nbspخطأ<br><br>(6)-&nbspتحتاج النباتات في موطنها إلى الماء وضوء الشمس لكي تعيش<br>&nbsp&nbspأ-&nbspخطأ<br>&nbsp&nbspب-&nbspصح<br><br>(7)-&nbspيذزب السكر في الماء عن طريق تكوين روابط .....<br>&nbsp&nbspأ-&nbspأزرق بنفسجي<br>&nbsp&nbspب-&nbsp310<br>&nbsp&nbspج-&nbspهيدروجينية<br>&nbsp&nbspد-&nbspالإنحلال<br><br>(8)-&nbspامرأة عمرها 35 عاما أدخلت إلى المستشفى بسبب ارتفاع حرارة وسعال جاف منذ 3 أيام أظهرت صورة الصدر الشعاعية وجود اشياء غير طبيعية اظهرت الفحوص المخبرية اضداد باردة متخثرة في المصل نتائج عمليات الزرع الروتينية للدم والقشع سلبية أي من التالي هو العامل المحرض الأكثر رجحانا<br>&nbsp&nbspأ-&nbspفيروس الإنفلونزا<br>&nbsp&nbspب-&nbspالمتفطرات السلبية<br>&nbsp&nbspج-&nbspالمفطورات الرئوية<br>&nbsp&nbspد-&nbspالمكورات العنقودية الذهبية<br><br>(9)-&nbspعند خفض درجة حرارة المحلول إلى درجة تجمده تنفصل بللورات  ..... عن بللورات  .....<br>&nbsp&nbspأ-&nbspالألياف النونوية، كرات البوكى<br>&nbsp&nbspب-&nbspالمذاب ، المذيب<br>&nbsp&nbspج-&nbspوسط انتشار، صنف منتشر<br>&nbsp&nbspد-&nbspالكربونيك، الفوسفوريك<br><br></div>"
      ],
      "text/plain": [
       "<IPython.core.display.HTML object>"
      ]
     },
     "execution_count": 4,
     "metadata": {},
     "output_type": "execute_result"
    }
   ],
   "source": [
    "import random\n",
    "from IPython.display import HTML\n",
    "\n",
    "sample = random.sample(araSTEM, 10)\n",
    "questions_str = \"\"\n",
    "for i, q in enumerate(sample):\n",
    "  questions_str+= f\"({i})-&nbsp\"\n",
    "  questions_str+= q[\"question\"] + \"<br>\"\n",
    "  for j, label in enumerate([\"أ\", \"ب\", \"ج\", \"د\"]):\n",
    "    if q[f\"option_{j}\"]:\n",
    "      questions_str+= f\"&nbsp&nbsp{label}-&nbsp\"\n",
    "      questions_str+= q[f\"option_{j}\"] + \"<br>\"\n",
    "  questions_str+= \"<br>\"\n",
    "HTML(f'<div dir=\"rtl\">{questions_str}</div>')"
   ]
  }
 ],
 "metadata": {
  "colab": {
   "authorship_tag": "ABX9TyMke0B7xMEpN5SoF7fRHR4V",
   "mount_file_id": "1fkTd9RoXGyGNehfzbK35K-xVVQedPQSA",
   "name": "",
   "version": ""
  },
  "kernelspec": {
   "display_name": ".venv",
   "language": "python",
   "name": "python3"
  },
  "language_info": {
   "codemirror_mode": {
    "name": "ipython",
    "version": 3
   },
   "file_extension": ".py",
   "mimetype": "text/x-python",
   "name": "python",
   "nbconvert_exporter": "python",
   "pygments_lexer": "ipython3",
   "version": "3.13.3"
  }
 },
 "nbformat": 4,
 "nbformat_minor": 0
}
