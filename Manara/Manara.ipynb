{
 "cells": [
  {
   "cell_type": "code",
   "execution_count": 1,
   "metadata": {
    "executionInfo": {
     "elapsed": 762,
     "status": "ok",
     "timestamp": 1723830923784,
     "user": {
      "displayName": "Ahmad Mustapha",
      "userId": "13718654423588217604"
     },
     "user_tz": -180
    },
    "id": "fhrDc7yUJ0YE"
   },
   "outputs": [],
   "source": [
    "import json"
   ]
  },
  {
   "cell_type": "code",
   "execution_count": 3,
   "metadata": {
    "executionInfo": {
     "elapsed": 1237,
     "status": "ok",
     "timestamp": 1723830935079,
     "user": {
      "displayName": "Ahmad Mustapha",
      "userId": "13718654423588217604"
     },
     "user_tz": -180
    },
    "id": "n99hVh6dJ4tv"
   },
   "outputs": [],
   "source": [
    "manara_physics_raw = json.load(open(\"./manara_physics_mcq_raw.json\", \"r\", encoding=\"utf-8\"))\n",
    "manara_physics_raw_2 = json.load(open(\"./manara_physics_mcq_2_raw.json\", \"r\", encoding=\"utf-8\"))"
   ]
  },
  {
   "cell_type": "code",
   "execution_count": 6,
   "metadata": {
    "executionInfo": {
     "elapsed": 1589,
     "status": "ok",
     "timestamp": 1723830939923,
     "user": {
      "displayName": "Ahmad Mustapha",
      "userId": "13718654423588217604"
     },
     "user_tz": -180
    },
    "id": "VJeL4VN1KdWd"
   },
   "outputs": [],
   "source": [
    "manara_physics = []\n",
    "for item in manara_physics_raw:\n",
    "  manara_physics.append(item)\n",
    "for item in manara_physics_raw_2:\n",
    "  if \"option_4\" in item[\"answer\"] and not \"option_3\" in item[\"answer\"]: # 40\n",
    "    item['answer'][\"option_3\"] = item['answer'][\"option_4\"]\n",
    "    del item['answer'][\"option_4\"]\n",
    "  if \"option_5\" in item[\"answer\"] and not \"option_4\" in item[\"answer\"]: # 3\n",
    "    item['answer'][\"option_4\"] = item['answer'][\"option_5\"]\n",
    "    del item['answer'][\"option_5\"]\n",
    "  manara_physics.append(item)"
   ]
  },
  {
   "cell_type": "code",
   "execution_count": null,
   "metadata": {
    "executionInfo": {
     "elapsed": 11,
     "status": "ok",
     "timestamp": 1723830942952,
     "user": {
      "displayName": "Ahmad Mustapha",
      "userId": "13718654423588217604"
     },
     "user_tz": -180
    },
    "id": "2Md5aQD3T5YR"
   },
   "outputs": [],
   "source": [
    "json.dump(manara_physics, open(\"./manara_physics_mcq.json\", \"w\", encoding=\"utf-8\"))"
   ]
  },
  {
   "cell_type": "code",
   "execution_count": null,
   "metadata": {
    "id": "hueF3GxwT5Z9"
   },
   "outputs": [],
   "source": []
  }
 ],
 "metadata": {
  "colab": {
   "authorship_tag": "ABX9TyNbs3lTLHtddQ9R5LhjhQzA",
   "mount_file_id": "1pj4RgAlPzbPD64hR566yYOZOFAXd8CyU",
   "provenance": []
  },
  "kernelspec": {
   "display_name": ".venv",
   "language": "python",
   "name": "python3"
  },
  "language_info": {
   "codemirror_mode": {
    "name": "ipython",
    "version": 3
   },
   "file_extension": ".py",
   "mimetype": "text/x-python",
   "name": "python",
   "nbconvert_exporter": "python",
   "pygments_lexer": "ipython3",
   "version": "3.13.3"
  }
 },
 "nbformat": 4,
 "nbformat_minor": 0
}
