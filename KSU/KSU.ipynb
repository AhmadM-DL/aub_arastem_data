{
 "cells": [
  {
   "cell_type": "code",
   "execution_count": 1,
   "metadata": {
    "executionInfo": {
     "elapsed": 284,
     "status": "ok",
     "timestamp": 1723836395203,
     "user": {
      "displayName": "Ahmad Mustapha",
      "userId": "13718654423588217604"
     },
     "user_tz": -180
    },
    "id": "w5d_qTXjhxUE"
   },
   "outputs": [],
   "source": [
    "import json"
   ]
  },
  {
   "cell_type": "code",
   "execution_count": 4,
   "metadata": {
    "executionInfo": {
     "elapsed": 956,
     "status": "ok",
     "timestamp": 1723836595459,
     "user": {
      "displayName": "Ahmad Mustapha",
      "userId": "13718654423588217604"
     },
     "user_tz": -180
    },
    "id": "murcJPBlh09t"
   },
   "outputs": [],
   "source": [
    "ksu_it_mcq_raw = json.load(open(\"./ksu_it_mcq_raw.json\", encoding=\"utf-8\"))"
   ]
  },
  {
   "cell_type": "code",
   "execution_count": 5,
   "metadata": {
    "executionInfo": {
     "elapsed": 801,
     "status": "ok",
     "timestamp": 1723836600283,
     "user": {
      "displayName": "Ahmad Mustapha",
      "userId": "13718654423588217604"
     },
     "user_tz": -180
    },
    "id": "QHejBdhsitUH"
   },
   "outputs": [],
   "source": [
    "import re\n",
    "questions = []\n",
    "for q in ksu_it_mcq_raw:\n",
    "  for i in [0, 1, 2, 3, 4]:\n",
    "    if f\"option_{i}\" in q[\"answer\"]:\n",
    "      # Remove prefixed \"-\"\n",
    "      q[\"answer\"][f\"option_{i}\"] = re.sub(r\"^-\", \"\", q[\"answer\"][f\"option_{i}\"])\n",
    "  questions.append(q)"
   ]
  },
  {
   "cell_type": "code",
   "execution_count": 6,
   "metadata": {
    "colab": {
     "base_uri": "https://localhost:8080/"
    },
    "executionInfo": {
     "elapsed": 7,
     "status": "ok",
     "timestamp": 1723836600283,
     "user": {
      "displayName": "Ahmad Mustapha",
      "userId": "13718654423588217604"
     },
     "user_tz": -180
    },
    "id": "le2-JuPjmiwG",
    "outputId": "f9172589-698b-47be-9816-17858c5ade56"
   },
   "outputs": [
    {
     "data": {
      "text/plain": [
       "{'question': ' يتم تجميع كل ثمانية بت Bit لتكون لنا :',\n",
       " 'answer': {'option_0': 'رقم',\n",
       "  'correct_option': 1,\n",
       "  'option_1': 'حرف',\n",
       "  'option_2': 'صورة',\n",
       "  'option_3': 'جميع ما ذكر'}}"
      ]
     },
     "execution_count": 6,
     "metadata": {},
     "output_type": "execute_result"
    }
   ],
   "source": [
    "import random\n",
    "questions[random.choice(range(len(questions)))]"
   ]
  },
  {
   "cell_type": "code",
   "execution_count": null,
   "metadata": {
    "executionInfo": {
     "elapsed": 5,
     "status": "ok",
     "timestamp": 1723836600284,
     "user": {
      "displayName": "Ahmad Mustapha",
      "userId": "13718654423588217604"
     },
     "user_tz": -180
    },
    "id": "ZFmEEGaVnzyj"
   },
   "outputs": [],
   "source": [
    "json.dump(questions, open(\"./ksu_it_mcq.json\", \"w\"))"
   ]
  }
 ],
 "metadata": {
  "colab": {
   "authorship_tag": "ABX9TyO9rLzP1Du8eygGSEpMRry8",
   "mount_file_id": "1WDJkyTQNbQULXV2iKeLfXu423TmPUbTp",
   "provenance": []
  },
  "kernelspec": {
   "display_name": ".venv",
   "language": "python",
   "name": "python3"
  },
  "language_info": {
   "codemirror_mode": {
    "name": "ipython",
    "version": 3
   },
   "file_extension": ".py",
   "mimetype": "text/x-python",
   "name": "python",
   "nbconvert_exporter": "python",
   "pygments_lexer": "ipython3",
   "version": "3.13.3"
  }
 },
 "nbformat": 4,
 "nbformat_minor": 0
}
