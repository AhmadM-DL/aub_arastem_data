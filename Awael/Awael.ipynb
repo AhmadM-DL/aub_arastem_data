{
 "cells": [
  {
   "cell_type": "code",
   "execution_count": 1,
   "metadata": {
    "executionInfo": {
     "elapsed": 383,
     "status": "ok",
     "timestamp": 1723832719787,
     "user": {
      "displayName": "Ahmad Mustapha",
      "userId": "13718654423588217604"
     },
     "user_tz": -180
    },
    "id": "n0Vz3_KSYreP"
   },
   "outputs": [],
   "source": [
    "import json"
   ]
  },
  {
   "cell_type": "code",
   "execution_count": 3,
   "metadata": {
    "executionInfo": {
     "elapsed": 405,
     "status": "ok",
     "timestamp": 1723832721726,
     "user": {
      "displayName": "Ahmad Mustapha",
      "userId": "13718654423588217604"
     },
     "user_tz": -180
    },
    "id": "sU1c9GMMYxtF"
   },
   "outputs": [],
   "source": [
    "file = open(\"awael_computer_mcq.txt\", \"r\", encoding=\"utf-8\")\n",
    "content = file.read()\n",
    "lines= content.split(\"\\n\")"
   ]
  },
  {
   "cell_type": "code",
   "execution_count": 4,
   "metadata": {
    "executionInfo": {
     "elapsed": 430,
     "status": "ok",
     "timestamp": 1723833053019,
     "user": {
      "displayName": "Ahmad Mustapha",
      "userId": "13718654423588217604"
     },
     "user_tz": -180
    },
    "id": "mOvfHtVvZcU4"
   },
   "outputs": [],
   "source": [
    "questions = []\n",
    "for line in lines:\n",
    "  if \":\" in line:\n",
    "    question = {}\n",
    "    question[\"question\"] = line.replace(\":\", \"\").strip()\n",
    "    question[\"answer\"] = {}\n",
    "    option=0\n",
    "  elif \"-\" in line:\n",
    "    if \"(correct answer)\" in line.lower():\n",
    "      question[\"answer\"][\"correct_option\"] = option\n",
    "      question[\"answer\"][f\"option_{option}\"] = line.lower().replace(\"-\", \"\").replace(\"(correct answer)\", \"\").strip()\n",
    "    else:\n",
    "      question[\"answer\"][f\"option_{option}\"] = line.replace(\"-\", \"\").strip()\n",
    "    option+=1\n",
    "  elif line == \"\":\n",
    "    questions.append(question)\n",
    "questions.append(question)"
   ]
  },
  {
   "cell_type": "code",
   "execution_count": 5,
   "metadata": {},
   "outputs": [
    {
     "data": {
      "text/plain": [
       "{'question': 'اي ﻣﻣﺎ ﯾﻠﻲ ﺑرﻧﺎﻣﺞ ﻧظﺎم ﻟﻠﺣﺎﺳوب',\n",
       " 'answer': {'option_0': 'اﻟﺟداول اﻹﻟﻛﺗروﻧﯾﺔ',\n",
       "  'option_1': 'اﻟﻧﺎﺷر اﻟﻣﻛﺗﺑﻲ',\n",
       "  'correct_option': 2,\n",
       "  'option_2': 'وﯾﻧدوز',\n",
       "  'option_3': 'ﻻﺷﻲء ﻣﻣﺎ ذﻛر'}}"
      ]
     },
     "execution_count": 5,
     "metadata": {},
     "output_type": "execute_result"
    }
   ],
   "source": [
    "questions[0]"
   ]
  },
  {
   "cell_type": "code",
   "execution_count": null,
   "metadata": {
    "executionInfo": {
     "elapsed": 328,
     "status": "ok",
     "timestamp": 1723833102012,
     "user": {
      "displayName": "Ahmad Mustapha",
      "userId": "13718654423588217604"
     },
     "user_tz": -180
    },
    "id": "RWeO_EMpcFd0"
   },
   "outputs": [],
   "source": [
    "json.dump(questions, open(\"awael_computer_mcq.json\", \"w\", encoding=\"utf-8\"))"
   ]
  }
 ],
 "metadata": {
  "colab": {
   "authorship_tag": "ABX9TyNM1S44lNQ2QJTfVM1EaSEa",
   "mount_file_id": "1-ZXWYaB-DdaUZA9x60BcM3qvw577dMYF",
   "provenance": []
  },
  "kernelspec": {
   "display_name": ".venv",
   "language": "python",
   "name": "python3"
  },
  "language_info": {
   "codemirror_mode": {
    "name": "ipython",
    "version": 3
   },
   "file_extension": ".py",
   "mimetype": "text/x-python",
   "name": "python",
   "nbconvert_exporter": "python",
   "pygments_lexer": "ipython3",
   "version": "3.13.3"
  }
 },
 "nbformat": 4,
 "nbformat_minor": 0
}
