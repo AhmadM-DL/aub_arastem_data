{
 "cells": [
  {
   "cell_type": "markdown",
   "metadata": {},
   "source": [
    "### Generate Links"
   ]
  },
  {
   "cell_type": "code",
   "execution_count": null,
   "metadata": {
    "executionInfo": {
     "elapsed": 3,
     "status": "ok",
     "timestamp": 1742976666357,
     "user": {
      "displayName": "Ahmad Mustapha",
      "userId": "13718654423588217604"
     },
     "user_tz": -120
    },
    "id": "weTbVP7DHsIn"
   },
   "outputs": [],
   "source": [
    "import requests\n",
    "from bs4 import BeautifulSoup as bs4"
   ]
  },
  {
   "cell_type": "code",
   "execution_count": 2,
   "metadata": {
    "executionInfo": {
     "elapsed": 5,
     "status": "ok",
     "timestamp": 1742974240560,
     "user": {
      "displayName": "Ahmad Mustapha",
      "userId": "13718654423588217604"
     },
     "user_tz": -120
    },
    "id": "09bPPMdl_zf3"
   },
   "outputs": [],
   "source": [
    "beadaya_tests = \"https://beadaya.com/tests/\""
   ]
  },
  {
   "cell_type": "code",
   "execution_count": 5,
   "metadata": {
    "executionInfo": {
     "elapsed": 4,
     "status": "ok",
     "timestamp": 1742975152769,
     "user": {
      "displayName": "Ahmad Mustapha",
      "userId": "13718654423588217604"
     },
     "user_tz": -120
    },
    "id": "fQz-eOGDwqcc"
   },
   "outputs": [],
   "source": [
    "pages = {\n",
    "           \"1\": {\"math\": [160, 205, 356], \"science\": [55, 206, 358]}, # Correction math was 160, 205, 256- > 160, 205, 356\n",
    "           \"2\": {\"math\": [161, 210, 362], \"science\": [65, 209, 364]},\n",
    "           \"3\": {\"math\": [162, 213, 368], \"science\": [99, 211, 371]},\n",
    "           \"4\": {\"math\": [119, 219, 376], \"science\": [39, 215, 380]},\n",
    "           \"5\": {\"math\": [120, 226, 386], \"science\": [9, 224, 389]},\n",
    "           \"6\": {\"math\": [121, 235, 397], \"science\": [101, 231, 401]},\n",
    "           \"7\": {\"math\": [122, 244, 410], \"science\": [107, 237, 414]},\n",
    "           \"8\": {\"math\": [123, 196, 421], \"science\": [126, 256, 422]},\n",
    "           \"9\": {\"math\": [124, 180, 433], \"science\": [89, 259, 440]},\n",
    "           \"10-11-12\": {\"math\": [343, 345, 344, 346],\n",
    "                        \"physics\": [331, 333, 332],\n",
    "                        \"chemistry\": [340, 341, 342]}\n",
    "           }"
   ]
  },
  {
   "cell_type": "code",
   "execution_count": null,
   "metadata": {
    "id": "papXTqG5_YBc"
   },
   "outputs": [],
   "source": [
    "from collections import defaultdict\n",
    "from urllib.parse import urljoin\n",
    "import json\n",
    "\n",
    "links = defaultdict(list)\n",
    "for grade in pages.keys():\n",
    "  for subject in pages[grade].keys():\n",
    "    for page in pages[grade][subject]:\n",
    "      print(f\"{grade}-{subject}-{page}\")\n",
    "      response = requests.get(urljoin(beadaya_tests, str(page)))\n",
    "      html = bs4(response.content)\n",
    "      questions_groups = html.find(\"ul\", {\"class\":\"category-lessons\"})\n",
    "      for group in questions_groups.find_all(\"li\"):\n",
    "        if not group.find(\"a\"):\n",
    "          continue\n",
    "        link = group.find(\"a\")[\"href\"]\n",
    "        links[f\"{grade}-{subject}\"].append(link)"
   ]
  },
  {
   "cell_type": "code",
   "execution_count": null,
   "metadata": {},
   "outputs": [],
   "source": [
    "json.dump(links, open(\"beadaya_links.json\"), \"w\")"
   ]
  },
  {
   "cell_type": "markdown",
   "metadata": {},
   "source": [
    "### Generate QA Raw"
   ]
  },
  {
   "cell_type": "code",
   "execution_count": 1,
   "metadata": {},
   "outputs": [],
   "source": [
    "import json\n",
    "import requests\n",
    "from bs4 import BeautifulSoup as bs4\n",
    "from collections import defaultdict"
   ]
  },
  {
   "cell_type": "code",
   "execution_count": 2,
   "metadata": {
    "executionInfo": {
     "elapsed": 123,
     "status": "ok",
     "timestamp": 1742976555019,
     "user": {
      "displayName": "Ahmad Mustapha",
      "userId": "13718654423588217604"
     },
     "user_tz": -120
    },
    "id": "ceCtpqHBGLGP"
   },
   "outputs": [],
   "source": [
    "\n",
    "def parse_question(beadaya_html_question):\n",
    "  question_data = {}\n",
    "  question_data['zad_quiz_questions_order[]'] = beadaya_html_question.find(\"input\", {\"type\":\"hidden\"})[\"value\"]\n",
    "  question = beadaya_html_question.find(\"div\", {\"class\": \"zad-quiz-test-content-question\"})\n",
    "  has_sub_items = question.find(\"div\", {\"class\": \"zad-quiz-test-content-sub-items\"})\n",
    "\n",
    "def get_questions_payload(beadaya_html_test_form):\n",
    "  payload = {}\n",
    "  payload[\"questions_list_id\"] = beadaya_html_test_form.find(\"input\", {\"name\": \"questions_list_id\"})[\"value\"]\n",
    "\n",
    "  # Get all questions\n",
    "  questions = beadaya_html_test_form.find_all(\"div\", {\"class\": \"zad-quiz-test-content-item\"}, recursive=False)\n",
    "  final_questions = []\n",
    "  # Get sub-questions (Some questions have sub questions)\n",
    "  for question in questions:\n",
    "    sub_questions_div = question.find(\"div\", {\"class\": \"zad-quiz-test-content-sub-items\"})\n",
    "    if sub_questions_div:\n",
    "      sub_questions = sub_questions_div.find_all(\"div\", {\"class\": \"zad-quiz-test-content-item\"})\n",
    "      final_questions.append(question)\n",
    "      final_questions.extend(sub_questions)\n",
    "    else:\n",
    "      final_questions.append(question)\n",
    "\n",
    "  # For each question get order hidden variable and choose first answer\n",
    "  payload[\"zad_quiz_questions_order[]\"] = []\n",
    "\n",
    "  # Collect ansersw name-value\n",
    "  for question in final_questions:\n",
    "\n",
    "    # Order hidden variable\n",
    "    order = question.find(\"input\", {\"type\":\"hidden\"})[\"value\"]\n",
    "    payload['zad_quiz_questions_order[]'].append(order)\n",
    "\n",
    "    # Answer\n",
    "    answer = question.find(\"div\", {\"class\": \"zad-quiz-test-content-answer\"})\n",
    "    if not answer: # (Some questions are only hidden no answers or actual question)\n",
    "      continue\n",
    "    answer = answer.find(\"input\")\n",
    "    answer_value = answer[\"value\"]\n",
    "    if not answer[\"value\"]: # Some questions are text and not mcq set text to \"default\"\n",
    "       answer[\"value\"] = \"default\"\n",
    "    payload[answer[\"name\"]] = answer_value\n",
    "\n",
    "  payload[\"send\"] = 1\n",
    "  return payload\n",
    "\n",
    "def process_question_answer(beadaya_question_answer_html):\n",
    "  question_answer = {}\n",
    "\n",
    "  has_answers = beadaya_question_answer_html.find(\"div\", {\"class\":\"zad-quiz-test-content-answers\"}).find_all()!= []\n",
    "  if not has_answers:\n",
    "    return question_answer\n",
    "\n",
    "  question_answer[\"question\"] = {}\n",
    "  question_div = beadaya_question_answer_html.find(\"div\", {\"class\": \"zad-quiz-test-content-question\"})\n",
    "  question_answer[\"question\"][\"img\"] = question_div.find(\"img\")[\"src\"] if question_div.find(\"img\") else \"\"\n",
    "  question_answer[\"question\"][\"text\"] =  question_div.find(\"span\").text.strip() if  question_div.find(\"span\") else \"\"\n",
    "  question_answer[\"question\"][\"math\"] = question_div.find(\"math\").prettify() if question_div.find(\"math\") else \"\"\n",
    "\n",
    "  sub_questions = beadaya_question_answer_html.find(\"div\", {\"class\":\"zad-quiz-test-content-sub-items\"})\n",
    "  question_answers= []\n",
    "  if sub_questions:\n",
    "    for sub_question in sub_questions.find_all(\"div\", {\"class\": \"zad-quiz-test-content-item\"}):\n",
    "      sub_question_answer = question_answer.copy()\n",
    "      sub_question_answer[\"sub_question\"]= {}\n",
    "\n",
    "      question_div = sub_question.find(\"div\", {\"class\": \"zad-quiz-test-content-question\"})\n",
    "      sub_question_answer[\"sub_question\"][\"img\"] = question_div.find(\"img\")[\"src\"] if question_div.find(\"img\") else \"\"\n",
    "      sub_question_answer[\"sub_question\"][\"text\"] =  question_div.find(\"span\").text.strip() if  question_div.find(\"span\") else \"\"\n",
    "      sub_question_answer[\"sub_question\"][\"math\"] = question_div.find(\"math\").prettify() if question_div.find(\"math\") else \"\"\n",
    "\n",
    "      sub_question_answer[\"answer\"] = {}\n",
    "      options =  sub_question.find_all(\"div\", {\"class\": \"zad-quiz-test-answer-option\"})\n",
    "      correct_option = -1\n",
    "      for i,option in enumerate(options):\n",
    "        sub_question_answer[\"answer\"][f\"option_{i}\"] = {}\n",
    "        sub_question_answer[\"answer\"][f\"option_{i}\"][\"img\"] = option.find(\"img\")[\"src\"] if option.find(\"img\") else \"\"\n",
    "        sub_question_answer[\"answer\"][f\"option_{i}\"][\"text\"] =  option.text.strip()\n",
    "        sub_question_answer[\"answer\"][f\"option_{i}\"][\"math\"] = str(option.find(\"math\")) if option.find(\"math\") else \"\"\n",
    "        if option.find(\"i\", {\"class\": \"fa fa-check\"}): correct_option = i\n",
    "      sub_question_answer[\"answer\"][\"correct_option\"] = correct_option\n",
    "\n",
    "      question_answers.append(sub_question_answer)\n",
    "    return question_answers\n",
    "  else:\n",
    "    question_answer[\"answer\"]= {}\n",
    "    options =  beadaya_question_answer_html.find_all(\"div\", {\"class\": \"zad-quiz-test-answer-option\"})\n",
    "    correct_option = -1\n",
    "    for i,option in enumerate(options):\n",
    "      question_answer[\"answer\"][f\"option_{i}\"] = {}\n",
    "      question_answer[\"answer\"][f\"option_{i}\"][\"img\"] = option.find(\"img\")[\"src\"] if option.find(\"img\") else \"\"\n",
    "      question_answer[\"answer\"][f\"option_{i}\"][\"text\"] =  option.text.strip()\n",
    "      question_answer[\"answer\"][f\"option_{i}\"][\"math\"] = str(option.find(\"math\")) if option.find(\"math\") else \"\"\n",
    "      if option.find(\"i\", {\"class\": \"fa fa-check\"}): correct_option = i\n",
    "    question_answer[\"answer\"][\"correct_option\"] = correct_option\n",
    "    return question_answer"
   ]
  },
  {
   "cell_type": "code",
   "execution_count": null,
   "metadata": {},
   "outputs": [],
   "source": [
    "links = json.load(open(\"beadaya_links.json\", \"r\"))"
   ]
  },
  {
   "cell_type": "code",
   "execution_count": null,
   "metadata": {
    "id": "iSDX9PJwtdoV"
   },
   "outputs": [],
   "source": [
    "total_question_answers= defaultdict(list)\n",
    "for grade_subject in links.keys():\n",
    "  print(grade_subject)\n",
    "  for link in links[grade_subject]:\n",
    "    print(link)\n",
    "    s = requests.Session()\n",
    "    # Generate payload\n",
    "    payload = {}\n",
    "    response = s.get(link)\n",
    "    html = bs4(response.content)\n",
    "    form = html.find(\"form\", {\"id\":\"zad_quiz_form\"})\n",
    "    payload = get_questions_payload(form)\n",
    "    # Get Answers\n",
    "    response = s.post(link, data=payload)\n",
    "    html = bs4(response.content)\n",
    "    answers_div = html.find(\"div\", {\"class\": \"test-answers\"})\n",
    "    if not answers_div:\n",
    "      continue\n",
    "    answers = answers_div.find_all(\"div\", {\"class\": \"zad-quiz-test-content-item\"}, recursive=False)\n",
    "    for answer_div in answers:\n",
    "      answers = process_question_answer(answer_div)\n",
    "      if type(answers) is list:\n",
    "        for answer in answers:\n",
    "          answer[\"link\"]=link\n",
    "        total_question_answers[grade_subject].extend(answers)\n",
    "      else:\n",
    "        answers[\"link\"]=link\n",
    "        total_question_answers[grade_subject].append(answers)"
   ]
  },
  {
   "cell_type": "code",
   "execution_count": null,
   "metadata": {},
   "outputs": [],
   "source": [
    "json.dump(total_question_answers, open(\"beadaya_qa_raw.json\", \"w\"))"
   ]
  },
  {
   "cell_type": "markdown",
   "metadata": {},
   "source": [
    "### Generate QA"
   ]
  },
  {
   "cell_type": "code",
   "execution_count": 6,
   "metadata": {
    "id": "rDh3PXMbSJp2"
   },
   "outputs": [],
   "source": [
    "import pandas as pd\n",
    "import json"
   ]
  },
  {
   "cell_type": "code",
   "execution_count": null,
   "metadata": {},
   "outputs": [],
   "source": [
    "beadaya_qa = json.load(open(\"beadaya_qa_raw.json\", \"r\"))"
   ]
  },
  {
   "cell_type": "code",
   "execution_count": 8,
   "metadata": {},
   "outputs": [],
   "source": [
    "beadaya_columnar=[]\n",
    "for grade_subject in beadaya_qa.keys():\n",
    "  grade, subject = grade_subject.replace(\"10-11-12\", \"secondary\").split(\"-\")\n",
    "  for qa in beadaya_qa[grade_subject]:\n",
    "\n",
    "    if \"question\" not in qa: # some questions are empty\n",
    "      continue\n",
    "\n",
    "    columnar = {}\n",
    "    columnar[\"grade\"] = grade\n",
    "    columnar[\"subject\"] = subject\n",
    "\n",
    "    columnar[\"question_img\"] = qa[\"question\"][\"img\"]\n",
    "    columnar[\"question_text\"] = qa[\"question\"][\"text\"]\n",
    "    columnar[\"question_math\"] = qa[\"question\"][\"math\"]\n",
    "\n",
    "    columnar[\"sub_question_img\"] = qa[\"sub_question\"][\"img\"] if \"sub_question\" in qa else \"\"\n",
    "    columnar[\"sub_question_text\"] = qa[\"sub_question\"][\"text\"] if \"sub_question\" in qa else \"\"\n",
    "    columnar[\"sub_question_math\"] = qa[\"sub_question\"][\"math\"] if \"sub_question\" in qa else \"\"\n",
    "\n",
    "    columnar[\"option_0_img\"] = qa[\"answer\"][\"option_0\"][\"img\"] if \"option_0\" in qa[\"answer\"] else \"\"\n",
    "    columnar[\"option_0_text\"] = qa[\"answer\"][\"option_0\"][\"text\"] if \"option_0\" in qa[\"answer\"] else \"\"\n",
    "    columnar[\"option_0_math\"] = qa[\"answer\"][\"option_0\"][\"math\"] if \"option_0\" in qa[\"answer\"] else \"\"\n",
    "\n",
    "    columnar[\"option_1_img\"] = qa[\"answer\"][\"option_1\"][\"img\"] if \"option_1\" in qa[\"answer\"] else \"\"\n",
    "    columnar[\"option_1_text\"] = qa[\"answer\"][\"option_1\"][\"text\"] if \"option_1\" in qa[\"answer\"] else \"\"\n",
    "    columnar[\"option_1_math\"] = qa[\"answer\"][\"option_1\"][\"math\"] if \"option_1\" in qa[\"answer\"] else \"\"\n",
    "\n",
    "    columnar[\"option_2_img\"] = qa[\"answer\"][\"option_2\"][\"img\"] if \"option_2\" in qa[\"answer\"] else \"\"\n",
    "    columnar[\"option_2_text\"] = qa[\"answer\"][\"option_2\"][\"text\"] if \"option_2\" in qa[\"answer\"] else \"\"\n",
    "    columnar[\"option_2_math\"] = qa[\"answer\"][\"option_2\"][\"math\"] if \"option_2\" in qa[\"answer\"] else \"\"\n",
    "\n",
    "    columnar[\"option_3_img\"] = qa[\"answer\"][\"option_3\"][\"img\"] if \"option_3\" in qa[\"answer\"] else \"\"\n",
    "    columnar[\"option_3_text\"] = qa[\"answer\"][\"option_3\"][\"text\"] if \"option_3\" in qa[\"answer\"] else \"\"\n",
    "    columnar[\"option_3_math\"] = qa[\"answer\"][\"option_3\"][\"math\"]   if \"option_3\" in qa[\"answer\"] else \"\"\n",
    "\n",
    "    columnar[\"option_4_img\"] = qa[\"answer\"][\"option_4\"][\"img\"] if \"option_4\" in qa[\"answer\"] else \"\"\n",
    "    columnar[\"option_4_text\"] = qa[\"answer\"][\"option_4\"][\"text\"] if \"option_4\" in qa[\"answer\"] else \"\"\n",
    "    columnar[\"option_4_math\"] = qa[\"answer\"][\"option_4\"][\"math\"] if \"option_4\" in qa[\"answer\"] else \"\"\n",
    "\n",
    "    columnar[\"correct_option\"] = qa[\"answer\"][\"correct_option\"]\n",
    "    columnar[\"link\"] = qa[\"link\"]\n",
    "\n",
    "    beadaya_columnar.append(columnar)"
   ]
  },
  {
   "cell_type": "code",
   "execution_count": 9,
   "metadata": {},
   "outputs": [],
   "source": [
    "beadaya_df = pd.DataFrame(beadaya_columnar)"
   ]
  },
  {
   "cell_type": "code",
   "execution_count": null,
   "metadata": {},
   "outputs": [],
   "source": [
    "# Remove questions with images\n",
    "beadaya_df = beadaya_df[beadaya_df[\"question_img\"]==\"\"]\n",
    "beadaya_df = beadaya_df[beadaya_df[\"sub_question_img\"]==\"\"]\n",
    "beadaya_df = beadaya_df[beadaya_df[\"option_0_img\"]==\"\"]\n",
    "beadaya_df = beadaya_df[beadaya_df[\"option_1_img\"]==\"\"]\n",
    "beadaya_df = beadaya_df[beadaya_df[\"option_2_img\"]==\"\"]\n",
    "beadaya_df = beadaya_df[beadaya_df[\"option_3_img\"]==\"\"]\n",
    "beadaya_df = beadaya_df[beadaya_df[\"option_4_img\"]==\"\"]\n",
    "beadaya_df = beadaya_df.drop([\"question_img\", \"sub_question_img\", \"option_0_img\", \"option_1_img\", \"option_2_img\", \"option_3_img\", \"option_4_img\"], axis=1)\n",
    "\n",
    "# Remove questions with math jax\n",
    "beadaya_df = beadaya_df[beadaya_df[\"question_math\"]==\"\"]\n",
    "beadaya_df = beadaya_df[beadaya_df[\"sub_question_math\"]==\"\"]\n",
    "beadaya_df = beadaya_df[beadaya_df[\"option_0_math\"]==\"\"]\n",
    "beadaya_df = beadaya_df[beadaya_df[\"option_1_math\"]==\"\"]\n",
    "beadaya_df = beadaya_df[beadaya_df[\"option_2_math\"]==\"\"]\n",
    "beadaya_df = beadaya_df[beadaya_df[\"option_3_math\"]==\"\"]\n",
    "beadaya_df = beadaya_df[beadaya_df[\"option_4_math\"]==\"\"]\n",
    "beadaya_df = beadaya_df.drop([\"question_math\", \"sub_question_math\", \"option_0_math\", \"option_1_math\", \"option_2_math\", \"option_3_math\", \"option_4_math\"], axis=1)\n",
    "\n",
    "\n",
    "# Remove questions with no correct answer\n",
    "beadaya_df = beadaya_df[beadaya_df[\"correct_option\"]!=-1]\n",
    "\n",
    "# Remove questions with ordering question (The student should reorder boxes as an answer)\n",
    "beadaya_df = beadaya_df[~beadaya_df[\"question_text\"].str.contains(\"رتب \")]\n",
    "beadaya_df = beadaya_df[~beadaya_df[\"question_text\"].str.contains(\"رتبي \")]\n",
    "\n",
    "# Combine questions with sub question\n",
    "beadaya_df['question_text'] = beadaya_df.apply(lambda row: row['question_text'] + \" \" + row['sub_question_text'], axis=1)\n",
    "beadaya_df = beadaya_df.drop([\"sub_question_text\"], axis=1)\n",
    "\n",
    "# Remove those with empty answer\n",
    "beadaya_df = beadaya_df[beadaya_df[\"question_text\"]!=\"\"]\n",
    "beadaya_df = beadaya_df[beadaya_df[\"question_text\"]!=\" \"]\n",
    "\n",
    "# Remove those with 0, 1, and 5 options\n",
    "subset = beadaya_df[[\"option_0_text\", \"option_1_text\", \"option_2_text\", \"option_3_text\", \"option_4_text\"]].copy()\n",
    "subset['n_options'] = subset.apply(lambda row: sum(value != '' for value in row), axis=1)\n",
    "erronouns_options = subset['n_options'].apply(lambda v: v in [0, 1, 5])\n",
    "beadaya_df = beadaya_df.loc[~erronouns_options, :]\n",
    "\n",
    "beadaya_df"
   ]
  },
  {
   "cell_type": "code",
   "execution_count": 11,
   "metadata": {},
   "outputs": [],
   "source": [
    "questions = []\n",
    "for i, row in beadaya_df.iterrows():\n",
    "  question = {}\n",
    "  question[\"question\"] = row[\"question_text\"].strip()\n",
    "  question[\"answer\"] = {}\n",
    "  for i in [0, 1, 2, 3]:\n",
    "    question[\"answer\"][f\"option_{i}\"] = row[f\"option_{i}_text\"]\n",
    "  question[\"answer\"][f\"correct_option\"] = row[\"correct_option\"]\n",
    "  question[\"grade\"] = row[\"grade\"]\n",
    "  question[\"subject\"] = row[\"subject\"]\n",
    "  question[\"resource\"] = row[\"link\"]\n",
    "  questions.append(question)"
   ]
  },
  {
   "cell_type": "code",
   "execution_count": 12,
   "metadata": {},
   "outputs": [
    {
     "data": {
      "text/plain": [
       "{'question': 'كان في الماء 8 بطات ، ذهب 6 منهم ، كم بطة بقيت في الماء ؟',\n",
       " 'answer': {'option_0': '3',\n",
       "  'option_1': '4',\n",
       "  'option_2': '2',\n",
       "  'option_3': '',\n",
       "  'correct_option': 2},\n",
       " 'grade': '1',\n",
       " 'subject': 'math',\n",
       " 'resource': 'https://beadaya.com/test/15311/'}"
      ]
     },
     "execution_count": 12,
     "metadata": {},
     "output_type": "execute_result"
    }
   ],
   "source": [
    "questions[0]"
   ]
  },
  {
   "cell_type": "code",
   "execution_count": null,
   "metadata": {},
   "outputs": [],
   "source": [
    "json.dump(questions, open(\"beadaya_qa.json\", \"w\"), ensure_ascii=False)"
   ]
  }
 ],
 "metadata": {
  "colab": {
   "authorship_tag": "ABX9TyMlVYt4m5W2/jeJxzP0TqIT",
   "mount_file_id": "1_CvAzctZwMhUdYnDli6PvKnUNVVIlNUi",
   "provenance": []
  },
  "kernelspec": {
   "display_name": ".venv",
   "language": "python",
   "name": "python3"
  },
  "language_info": {
   "codemirror_mode": {
    "name": "ipython",
    "version": 3
   },
   "file_extension": ".py",
   "mimetype": "text/x-python",
   "name": "python",
   "nbconvert_exporter": "python",
   "pygments_lexer": "ipython3",
   "version": "3.13.3"
  }
 },
 "nbformat": 4,
 "nbformat_minor": 0
}
