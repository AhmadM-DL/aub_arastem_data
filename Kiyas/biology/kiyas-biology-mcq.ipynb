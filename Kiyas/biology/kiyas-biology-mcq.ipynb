{
 "cells": [
  {
   "cell_type": "code",
   "execution_count": 1,
   "metadata": {
    "executionInfo": {
     "elapsed": 351,
     "status": "ok",
     "timestamp": 1723741630785,
     "user": {
      "displayName": "Ahmad Mustapha",
      "userId": "13718654423588217604"
     },
     "user_tz": -180
    },
    "id": "yXDbpFFe_9t5"
   },
   "outputs": [],
   "source": [
    "import json"
   ]
  },
  {
   "cell_type": "code",
   "execution_count": 3,
   "metadata": {
    "executionInfo": {
     "elapsed": 701,
     "status": "ok",
     "timestamp": 1723741684380,
     "user": {
      "displayName": "Ahmad Mustapha",
      "userId": "13718654423588217604"
     },
     "user_tz": -180
    },
    "id": "0UweOywYAfQI"
   },
   "outputs": [],
   "source": [
    "biology = json.load(open(\"./biology.json\", encoding=\"utf-8\"))\n",
    "bilogy_2 = json.load(open(\"./biology_2.json\", encoding=\"utf-8\"))"
   ]
  },
  {
   "cell_type": "code",
   "execution_count": null,
   "metadata": {
    "id": "XhxNCjyrAsS1"
   },
   "outputs": [],
   "source": [
    "kiyas_biology_mcq = biology + bilogy_2\n",
    "kiyas_biology_mcq"
   ]
  },
  {
   "cell_type": "code",
   "execution_count": null,
   "metadata": {
    "executionInfo": {
     "elapsed": 303,
     "status": "ok",
     "timestamp": 1723741738245,
     "user": {
      "displayName": "Ahmad Mustapha",
      "userId": "13718654423588217604"
     },
     "user_tz": -180
    },
    "id": "vHJIY3yZA2jQ"
   },
   "outputs": [],
   "source": [
    "json.dump(kiyas_biology_mcq, open(\"kiyas_biology_mcq.json\", \"w\", encoding=\"utf-8\"))"
   ]
  }
 ],
 "metadata": {
  "colab": {
   "authorship_tag": "ABX9TyOCCB3c0XyYqq/VTejbWa2K",
   "mount_file_id": "1TjSprbBCU6GpnfPOPYHfaIWBAV3AQ5dw",
   "provenance": []
  },
  "kernelspec": {
   "display_name": ".venv",
   "language": "python",
   "name": "python3"
  },
  "language_info": {
   "codemirror_mode": {
    "name": "ipython",
    "version": 3
   },
   "file_extension": ".py",
   "mimetype": "text/x-python",
   "name": "python",
   "nbconvert_exporter": "python",
   "pygments_lexer": "ipython3",
   "version": "3.13.3"
  }
 },
 "nbformat": 4,
 "nbformat_minor": 0
}
