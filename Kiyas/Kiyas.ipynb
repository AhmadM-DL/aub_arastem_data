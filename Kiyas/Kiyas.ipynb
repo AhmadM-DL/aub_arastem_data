{
 "cells": [
  {
   "cell_type": "code",
   "execution_count": 2,
   "metadata": {
    "executionInfo": {
     "elapsed": 305,
     "status": "ok",
     "timestamp": 1723742101704,
     "user": {
      "displayName": "Ahmad Mustapha",
      "userId": "13718654423588217604"
     },
     "user_tz": -180
    },
    "id": "5DR6WdbwB4S2"
   },
   "outputs": [],
   "source": [
    "import json"
   ]
  },
  {
   "cell_type": "code",
   "execution_count": 4,
   "metadata": {
    "executionInfo": {
     "elapsed": 11,
     "status": "ok",
     "timestamp": 1723741919276,
     "user": {
      "displayName": "Ahmad Mustapha",
      "userId": "13718654423588217604"
     },
     "user_tz": -180
    },
    "id": "2yn451MlCy_f"
   },
   "outputs": [],
   "source": [
    "biology = json.load(open('./biology/kiyas_biology_mcq.json', encoding=\"utf-8\"))\n",
    "chemistry = json.load(open('./chemistry/kiyas_chemistry_mcq.json', encoding=\"utf-8\"))\n",
    "math = json.load(open('./math/kiyas_math_mcq.json', encoding=\"utf-8\"))\n",
    "physics = json.load(open('./physics/kiyas_physics_mcq.json', encoding=\"utf-8\"))"
   ]
  },
  {
   "cell_type": "code",
   "execution_count": 5,
   "metadata": {
    "colab": {
     "base_uri": "https://localhost:8080/"
    },
    "executionInfo": {
     "elapsed": 533,
     "status": "ok",
     "timestamp": 1723742120872,
     "user": {
      "displayName": "Ahmad Mustapha",
      "userId": "13718654423588217604"
     },
     "user_tz": -180
    },
    "id": "gkO5-LjeDQca",
    "outputId": "2ba6a24f-e29e-48c3-f949-e79d2e6ec125"
   },
   "outputs": [
    {
     "name": "stdout",
     "output_type": "stream",
     "text": [
      "165\n",
      "100\n",
      "51\n",
      "98\n"
     ]
    }
   ],
   "source": [
    "print(len(biology))\n",
    "print(len(chemistry))\n",
    "print(len(math))\n",
    "print(len(physics))"
   ]
  },
  {
   "cell_type": "code",
   "execution_count": 6,
   "metadata": {
    "executionInfo": {
     "elapsed": 302,
     "status": "ok",
     "timestamp": 1723742137186,
     "user": {
      "displayName": "Ahmad Mustapha",
      "userId": "13718654423588217604"
     },
     "user_tz": -180
    },
    "id": "c8CmjFXICWz-"
   },
   "outputs": [],
   "source": [
    "def get_columnar(qa):\n",
    "  columnar = {}\n",
    "  columnar[\"question\"] = qa[\"question\"]\n",
    "  columnar[\"option_0\"] = qa[\"answer\"][\"option_0\"]\n",
    "  columnar[\"option_1\"] = qa[\"answer\"][\"option_1\"]\n",
    "  columnar[\"option_2\"] = qa[\"answer\"][\"option_2\"] if \"option_2\" in qa[\"answer\"] else \"\"\n",
    "  columnar[\"option_3\"] = qa[\"answer\"][\"option_3\"] if \"option_3\" in qa[\"answer\"] else \"\"\n",
    "  columnar[\"correct_option\"] = qa[\"answer\"][\"correct_option\"]\n",
    "  return columnar"
   ]
  },
  {
   "cell_type": "code",
   "execution_count": 7,
   "metadata": {
    "executionInfo": {
     "elapsed": 443,
     "status": "ok",
     "timestamp": 1723742223041,
     "user": {
      "displayName": "Ahmad Mustapha",
      "userId": "13718654423588217604"
     },
     "user_tz": -180
    },
    "id": "ipuPXOhmCaw1"
   },
   "outputs": [],
   "source": [
    "kiyas_columnar= []\n",
    "for qa in biology:\n",
    "    kiyas_columnar.append(get_columnar(qa))\n",
    "for qa in chemistry:\n",
    "    kiyas_columnar.append(get_columnar(qa))\n",
    "for qa in physics:\n",
    "    kiyas_columnar.append(get_columnar(qa))\n",
    "for qa in math:\n",
    "    kiyas_columnar.append(get_columnar(qa))"
   ]
  },
  {
   "cell_type": "code",
   "execution_count": 8,
   "metadata": {
    "colab": {
     "base_uri": "https://localhost:8080/",
     "height": 206
    },
    "executionInfo": {
     "elapsed": 432,
     "status": "ok",
     "timestamp": 1723742247440,
     "user": {
      "displayName": "Ahmad Mustapha",
      "userId": "13718654423588217604"
     },
     "user_tz": -180
    },
    "id": "3fuVsIj5Cv7r",
    "outputId": "25af8c29-6e61-4b79-bd7e-abc2fccc4b34"
   },
   "outputs": [
    {
     "data": {
      "text/html": [
       "<div>\n",
       "<style scoped>\n",
       "    .dataframe tbody tr th:only-of-type {\n",
       "        vertical-align: middle;\n",
       "    }\n",
       "\n",
       "    .dataframe tbody tr th {\n",
       "        vertical-align: top;\n",
       "    }\n",
       "\n",
       "    .dataframe thead th {\n",
       "        text-align: right;\n",
       "    }\n",
       "</style>\n",
       "<table border=\"1\" class=\"dataframe\">\n",
       "  <thead>\n",
       "    <tr style=\"text-align: right;\">\n",
       "      <th></th>\n",
       "      <th>question</th>\n",
       "      <th>option_0</th>\n",
       "      <th>option_1</th>\n",
       "      <th>option_2</th>\n",
       "      <th>option_3</th>\n",
       "      <th>correct_option</th>\n",
       "    </tr>\n",
       "  </thead>\n",
       "  <tbody>\n",
       "    <tr>\n",
       "      <th>0</th>\n",
       "      <td>ديدان الفلاريا البالغة تعيش في الجهاز ...........</td>\n",
       "      <td>العضلي</td>\n",
       "      <td>الهضمي</td>\n",
       "      <td>العصبي</td>\n",
       "      <td>الليمفي</td>\n",
       "      <td>3</td>\n",
       "    </tr>\n",
       "    <tr>\n",
       "      <th>1</th>\n",
       "      <td>للعديد من الرخويات طاحنة تستعملها في</td>\n",
       "      <td>الحركة</td>\n",
       "      <td>دوران الدم</td>\n",
       "      <td>جمع الطعام</td>\n",
       "      <td>إخراج الفضلات</td>\n",
       "      <td>2</td>\n",
       "    </tr>\n",
       "    <tr>\n",
       "      <th>2</th>\n",
       "      <td>أي الرخويات التالية ينتمي إلى طائفة ذات المصراعين</td>\n",
       "      <td>المحار</td>\n",
       "      <td>الأخطبوط</td>\n",
       "      <td>الحلزون</td>\n",
       "      <td>السيبيا</td>\n",
       "      <td>0</td>\n",
       "    </tr>\n",
       "    <tr>\n",
       "      <th>3</th>\n",
       "      <td>حلقات منتفخة من جسم دودة الأرض تنتج الشرنقة</td>\n",
       "      <td>الشرج</td>\n",
       "      <td>الهلب</td>\n",
       "      <td>الأشواك</td>\n",
       "      <td>السرج</td>\n",
       "      <td>3</td>\n",
       "    </tr>\n",
       "    <tr>\n",
       "      <th>4</th>\n",
       "      <td>الهيكل الخارجي للمفصليات يتركب من مادة</td>\n",
       "      <td>السليلوز</td>\n",
       "      <td>اللجنين</td>\n",
       "      <td>السوبرين</td>\n",
       "      <td>الكيتين</td>\n",
       "      <td>3</td>\n",
       "    </tr>\n",
       "  </tbody>\n",
       "</table>\n",
       "</div>"
      ],
      "text/plain": [
       "                                            question  option_0    option_1  \\\n",
       "0  ديدان الفلاريا البالغة تعيش في الجهاز ...........    العضلي      الهضمي   \n",
       "1               للعديد من الرخويات طاحنة تستعملها في    الحركة  دوران الدم   \n",
       "2  أي الرخويات التالية ينتمي إلى طائفة ذات المصراعين    المحار    الأخطبوط   \n",
       "3        حلقات منتفخة من جسم دودة الأرض تنتج الشرنقة     الشرج       الهلب   \n",
       "4             الهيكل الخارجي للمفصليات يتركب من مادة  السليلوز     اللجنين   \n",
       "\n",
       "     option_2       option_3  correct_option  \n",
       "0      العصبي        الليمفي               3  \n",
       "1  جمع الطعام  إخراج الفضلات               2  \n",
       "2     الحلزون        السيبيا               0  \n",
       "3     الأشواك          السرج               3  \n",
       "4    السوبرين        الكيتين               3  "
      ]
     },
     "execution_count": 8,
     "metadata": {},
     "output_type": "execute_result"
    }
   ],
   "source": [
    "import pandas as pd\n",
    "kiyas_df = pd.DataFrame(kiyas_columnar)\n",
    "kiyas_df.head()"
   ]
  }
 ],
 "metadata": {
  "colab": {
   "authorship_tag": "ABX9TyNaK/c95n4wMP/GtjfwYLSp",
   "mount_file_id": "1qzinNKEIKyuWjIgHhAAlOT2mDw-5fcA3",
   "provenance": []
  },
  "kernelspec": {
   "display_name": ".venv",
   "language": "python",
   "name": "python3"
  },
  "language_info": {
   "codemirror_mode": {
    "name": "ipython",
    "version": 3
   },
   "file_extension": ".py",
   "mimetype": "text/x-python",
   "name": "python",
   "nbconvert_exporter": "python",
   "pygments_lexer": "ipython3",
   "version": "3.13.3"
  }
 },
 "nbformat": 4,
 "nbformat_minor": 0
}
