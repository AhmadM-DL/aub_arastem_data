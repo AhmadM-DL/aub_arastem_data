{
 "cells": [
  {
   "cell_type": "code",
   "execution_count": 1,
   "metadata": {
    "executionInfo": {
     "elapsed": 11,
     "status": "ok",
     "timestamp": 1746282864345,
     "user": {
      "displayName": "Ahmad Mustapha",
      "userId": "13718654423588217604"
     },
     "user_tz": -180
    },
    "id": "nwbt2QpSvusd"
   },
   "outputs": [],
   "source": [
    "import json"
   ]
  },
  {
   "cell_type": "code",
   "execution_count": 4,
   "metadata": {
    "executionInfo": {
     "elapsed": 54,
     "status": "ok",
     "timestamp": 1746282870229,
     "user": {
      "displayName": "Ahmad Mustapha",
      "userId": "13718654423588217604"
     },
     "user_tz": -180
    },
    "id": "2QVlUo8KzLRx"
   },
   "outputs": [],
   "source": [
    "import re\n",
    "\n",
    "def remove_diacritics(text):\n",
    "\n",
    "  DIACRITICS = [\n",
    "      '\\u0610', '\\u0611', '\\u0612', '\\u0613', '\\u0614', '\\u0615', '\\u0616', '\\u0617', '\\u0618', '\\u0619',\n",
    "      '\\u061A', '\\u064B', '\\u064C', '\\u064D', '\\u064E', '\\u064F', '\\u0650', '\\u0651', '\\u0652', '\\u0653',\n",
    "      '\\u0654', '\\u0655', '\\u0656', '\\u0657', '\\u0658', '\\u0659', '\\u065A', '\\u065B', '\\u065C', '\\u065D',\n",
    "      '\\u065E', '\\u065F', '\\u0670', '\\u06D6', '\\u06D7', '\\u06D8', '\\u06D9', '\\u06DA', '\\u06DB', '\\u06DC',\n",
    "      '\\u06DD', '\\u06DE', '\\u06DF', '\\u06E0', '\\u06E1', '\\u06E2', '\\u06E3', '\\u06E4', '\\u06E5', '\\u06E6',\n",
    "      '\\u06E7', '\\u06E8', '\\u06E9', '\\u06EA', '\\u06EB', '\\u06EC', '\\u06ED', '\\u06EE', '\\u06EF', '\\u06F0',\n",
    "      '\\u06F1', '\\u06F2', '\\u06F3', '\\u06F4', '\\u06F5', '\\u06F6', '\\u06F7', '\\u06F8', '\\u06F9'\n",
    "      ]\n",
    "\n",
    "  diacritics_pattern = re.compile('|'.join(re.escape(diacritic) for diacritic in DIACRITICS))\n",
    "  return re.sub(diacritics_pattern, \"\", text)\n",
    "\n",
    "def clean(text):\n",
    "  text = text.replace(\".\", \"\")\n",
    "  text = text.replace(\"،\", \"\")\n",
    "  text = text.replace(\"؟\", \"\")\n",
    "  text = text.replace(\":\", \"\")\n",
    "\n",
    "  text = re.sub(r'^[abcdeABCDEأ ب ج د ه][\\.\\-\\s]{1}', \"\", text)\n",
    "\n",
    "  text = re.sub(r\"\\s+\", \" \", text)\n",
    "\n",
    "  text = remove_diacritics(text)\n",
    "\n",
    "  return text"
   ]
  },
  {
   "cell_type": "code",
   "execution_count": 5,
   "metadata": {
    "executionInfo": {
     "elapsed": 7,
     "status": "ok",
     "timestamp": 1746282874439,
     "user": {
      "displayName": "Ahmad Mustapha",
      "userId": "13718654423588217604"
     },
     "user_tz": -180
    },
    "id": "dX3gH47Jzj-d"
   },
   "outputs": [],
   "source": [
    "def clean_qa(qa):\n",
    "  qa[\"question\"] = clean(qa[\"question\"])\n",
    "  for option in qa[\"answer\"]:\n",
    "    if option == \"correct_option\":\n",
    "      continue\n",
    "    qa[\"answer\"][option] = clean(qa[\"answer\"][option])\n",
    "\n",
    "def remove(qa):\n",
    "  if \"$\" in qa[\"question\"]:\n",
    "    return True\n",
    "  for i in range(0, len(qa[\"answer\"])-1):\n",
    "    option = f\"option_{i}\"\n",
    "    if \"&\" in qa[\"answer\"][option]:\n",
    "      return True\n",
    "    for c in [\"a\", \"b\", \"c\", \"d\", \"e\"]:\n",
    "      if c in qa[\"answer\"][option]:\n",
    "        return True\n",
    "    for c in [\"A\", \"B\", \"C\", \"D\", \"E\"]:\n",
    "      if c in qa[\"answer\"][option]:\n",
    "        return True\n",
    "  return False"
   ]
  },
  {
   "cell_type": "code",
   "execution_count": 11,
   "metadata": {
    "id": "uYor6reQHksR"
   },
   "outputs": [],
   "source": [
    "medicine_qa = []\n",
    "\n",
    "M2010B = json.load(open(\"./Medicine/validated/M2010B.json\", encoding=\"utf-8\"))\n",
    "M2015B = json.load(open(\"./Medicine/validated/M2015B.json\", encoding=\"utf-8\"))\n",
    "M2017B = json.load(open(\"./Medicine/validated/M2017B.json\", encoding=\"utf-8\"))\n",
    "M2019B = json.load(open(\"./Medicine/validated/M2019B.json\", encoding=\"utf-8\"))\n",
    "M2023A = json.load(open(\"./Medicine/validated/M2023A.json\", encoding=\"utf-8\"))\n",
    "\n",
    "M2010B_link = \"https://www.mehe.gov.lb/ar/OrganizationalStructureFiles/Higher%20EDU/M2010B.pdf\"\n",
    "M2015B_link = \"https://www.mehe.gov.lb/ar/OrganizationalStructureFiles/Higher%20EDU/M2015B.pdf\"\n",
    "M2017B_link = \"https://www.mehe.gov.lb/ar/OrganizationalStructureFiles/Higher%20EDU/M2017B.pdf\"\n",
    "M2019B_link = \"https://www.mehe.gov.lb/ar/SiteAssets/Pages/Structure/Higher%20EDU/ExamColloqOral/%D8%B7%D8%A8%20%D8%B9%D8%A7%D9%85%20-%202019%20-%20%D8%A7%D9%84%D8%AF%D9%88%D8%B1%D8%A9%20%D8%A7%D9%84%D8%AB%D8%A7%D9%86%D9%8A%D8%A9.pdf\"\n",
    "M2023A_link = \"https://www.mehe.gov.lb/ar/Pages/%D9%83%D9%88%D9%84%D9%88%D9%83%D9%8A%D9%88%D9%85/2023/%D8%A7%D9%84%D8%AF%D9%88%D8%B1%D8%A9%20%D8%A7%D9%84%D8%A7%D9%88%D9%84%D9%89/Med2023A.pdf\"\n",
    "\n",
    "for session, link in zip([M2010B, M2015B, M2017B, M2019B, M2023A], [M2010B_link, M2015B_link, M2017B_link, M2019B_link, M2023A_link]):\n",
    "  for qa in session:\n",
    "    qa[\"resource\"] = link\n",
    "    medicine_qa.append(qa)\n",
    "\n",
    "for qa in medicine_qa:\n",
    "  clean_qa(qa)\n",
    "\n",
    "medicine_qa_filtered = []\n",
    "for qa in medicine_qa:\n",
    "  if remove(qa):\n",
    "    pass\n",
    "  else:\n",
    "    medicine_qa_filtered.append(qa)\n"
   ]
  },
  {
   "cell_type": "code",
   "execution_count": 12,
   "metadata": {},
   "outputs": [
    {
     "data": {
      "text/plain": [
       "{'no': 1,\n",
       " 'question': 'ممرضة عمرها 40 عاما أدخلت إلى المستشفى بسبب ارتفاع بالحرارة حتى 41°C بالرغم من إجراء ما يلزم في المستشفى لأكثر من ثلاثة أسابيع لم تتضح الأسباب واستمرار ارتفاع الحرارة أكثر من 40°C أن التشخيص الأقل ترجيحا لهذه المريضة هو',\n",
       " 'answer': {'option_0': 'انتان جرثومي خفي',\n",
       "  'option_1': 'انفلونزا',\n",
       "  'option_2': 'ورم لمفاوي',\n",
       "  'option_3': 'داء ستيللز للكبار',\n",
       "  'option_4': 'هـ حمى صنعية',\n",
       "  'correct_option': 1},\n",
       " 'resource': 'https://www.mehe.gov.lb/ar/OrganizationalStructureFiles/Higher%20EDU/M2010B.pdf'}"
      ]
     },
     "execution_count": 12,
     "metadata": {},
     "output_type": "execute_result"
    }
   ],
   "source": [
    "medicine_qa_filtered[0]"
   ]
  },
  {
   "cell_type": "code",
   "execution_count": null,
   "metadata": {},
   "outputs": [],
   "source": [
    "json.dump(medicine_qa_filtered, open(\"./Medicine/medicine_qa.json\", \"w\", encoding=\"utf-8\"))"
   ]
  },
  {
   "cell_type": "code",
   "execution_count": 14,
   "metadata": {
    "executionInfo": {
     "elapsed": 4117,
     "status": "ok",
     "timestamp": 1746282887580,
     "user": {
      "displayName": "Ahmad Mustapha",
      "userId": "13718654423588217604"
     },
     "user_tz": -180
    },
    "id": "GJSMxRIrJ2Oj"
   },
   "outputs": [],
   "source": [
    "dentistry_qa = []\n",
    "\n",
    "D2015B = json.load(open(\"./Dentistry/validated/D2015B.json\", encoding=\"utf-8\"))\n",
    "D2016B = json.load(open(\"./Dentistry/validated/D2016B.json\", encoding=\"utf-8\"))\n",
    "D2018A = json.load(open(\"./Dentistry/validated/D2018A.json\", encoding=\"utf-8\"))\n",
    "D2020A = json.load(open(\"./Dentistry/validated/D2020A.json\", encoding=\"utf-8\"))\n",
    "D2021B = json.load(open(\"./Dentistry/validated/D2021B.json\", encoding=\"utf-8\"))\n",
    "D2022A = json.load(open(\"./Dentistry/validated/D2022A.json\", encoding=\"utf-8\"))\n",
    "D2023A = json.load(open(\"./Dentistry/validated/D2023A.json\", encoding=\"utf-8\"))\n",
    "\n",
    "D2015B_link = \"https://www.mehe.gov.lb/ar/OrganizationalStructureFiles/Higher%20EDU/D2015B.pdf\"\n",
    "D2016B_link = \"https://www.mehe.gov.lb/ar/OrganizationalStructureFiles/Higher%20EDU/D2016B.pdf\"\n",
    "D2018A_link = \"https://www.mehe.gov.lb/ar/OrganizationalStructureFiles/Higher%20EDU/D2018A.pdf\"\n",
    "D2020A_link = \"https://www.mehe.gov.lb/ar/Pages/Publications/Colloquium2020A/D2020A.pdf\"\n",
    "D2021B_link = \"https://www.mehe.gov.lb/ar/Pages/%D9%83%D9%88%D9%84%D9%88%D9%83%D9%8A%D9%88%D9%85/2022/D2021B.PDF\"\n",
    "D2022A_link = \"https://www.mehe.gov.lb/ar/Pages/%D9%83%D9%88%D9%84%D9%88%D9%83%D9%8A%D9%88%D9%85/2022/2022%20-%20%D8%A7%D9%84%D8%AF%D9%88%D8%B1%D8%A9%20%D8%A7%D9%84%D8%A7%D9%88%D9%84%D9%89/Coll%20Dent%202022A.PDF\"\n",
    "D2023A_link = \"https://www.mehe.gov.lb/ar/Pages/%D9%83%D9%88%D9%84%D9%88%D9%83%D9%8A%D9%88%D9%85/2023/%D8%A7%D9%84%D8%AF%D9%88%D8%B1%D8%A9%20%D8%A7%D9%84%D8%A7%D9%88%D9%84%D9%89/Dent2023A.pdf\"\n",
    "\n",
    "for session, link in zip([D2015B , D2016B, D2018A, D2020A, D2021B, D2022A, D2023A], [D2015B_link , D2016B_link, D2018A_link, D2020A_link, D2021B_link, D2022A_link, D2023A_link]):\n",
    "  for qa in session:\n",
    "    qa[\"resource\"] = link\n",
    "    dentistry_qa.append(qa)\n",
    "\n",
    "for qa in dentistry_qa:\n",
    "  clean_qa(qa)\n",
    "\n",
    "dentistry_qa_filtered = []\n",
    "for qa in dentistry_qa:\n",
    "  if remove(qa):\n",
    "    pass\n",
    "  else:\n",
    "    dentistry_qa_filtered.append(qa)"
   ]
  },
  {
   "cell_type": "code",
   "execution_count": 15,
   "metadata": {},
   "outputs": [
    {
     "data": {
      "text/plain": [
       "{'no': 1,\n",
       " 'question': 'تتم برمجة المطبق الشبه للتكييف من خلال',\n",
       " 'answer': {'option_0': 'استعمال سجل للعلاقة المركزية',\n",
       "  'option_1': 'استعمال سجل الحركة اللامركزية',\n",
       "  'option_2': 'استعمال سجل حالة تفاعس الفك',\n",
       "  'option_3': 'استعمال سجل التشابك الأقصى للحدبات',\n",
       "  'option_4': 'استعمال سجل البروز',\n",
       "  'correct_option': 1},\n",
       " 'resource': 'https://www.mehe.gov.lb/ar/OrganizationalStructureFiles/Higher%20EDU/D2015B.pdf'}"
      ]
     },
     "execution_count": 15,
     "metadata": {},
     "output_type": "execute_result"
    }
   ],
   "source": [
    "dentistry_qa_filtered[0]"
   ]
  },
  {
   "cell_type": "code",
   "execution_count": null,
   "metadata": {},
   "outputs": [],
   "source": [
    "json.dump(dentistry_qa_filtered, open(\"./Dentistry/dentistry_qa.json\", \"w\", encoding=\"utf-8\"))"
   ]
  },
  {
   "cell_type": "code",
   "execution_count": 17,
   "metadata": {
    "id": "71NfjQvJJ2A2"
   },
   "outputs": [],
   "source": [
    "pharmacy_qa = []\n",
    "\n",
    "P2010A = json.load(open(\"./Pharmacy/validated/P2010A.json\", encoding=\"utf-8\"))\n",
    "P2012B = json.load(open(\"./Pharmacy/validated/P2012B.json\", encoding=\"utf-8\"))\n",
    "P2020A = json.load(open(\"./Pharmacy/validated/P2020A.json\", encoding=\"utf-8\"))\n",
    "P2022A = json.load(open(\"./Pharmacy/validated/P2022A.json\", encoding=\"utf-8\"))\n",
    "\n",
    "P2010A_link= \"https://www.mehe.gov.lb/ar/OrganizationalStructureFiles/Higher%20EDU/P2010A.pdf\"\n",
    "P2012B_link= \"https://www.mehe.gov.lb/ar/OrganizationalStructureFiles/Higher%20EDU/P2012B.pdf\"\n",
    "P2020A_link= \"https://www.mehe.gov.lb/ar/Pages/Publications/Colloquium2020A/P2020A.pdf\"\n",
    "P2022A_link= \"https://www.mehe.gov.lb/ar/Pages/%D9%83%D9%88%D9%84%D9%88%D9%83%D9%8A%D9%88%D9%85/2022/2022%20-%20%D8%A7%D9%84%D8%AF%D9%88%D8%B1%D8%A9%20%D8%A7%D9%84%D8%A7%D9%88%D9%84%D9%89/Coll%20Pharm%202022A.PDF\"\n",
    "\n",
    "for session, link in zip([P2010A, P2012B, P2020A, P2022A], [P2010A_link, P2012B_link, P2020A_link, P2022A_link]):\n",
    "  for qa in session:\n",
    "    qa[\"resource\"] = link\n",
    "    pharmacy_qa.append(qa)\n",
    "\n",
    "for qa in pharmacy_qa:\n",
    "  clean_qa(qa)\n",
    "\n",
    "pharmacy_qa_filtered = []\n",
    "for qa in pharmacy_qa:\n",
    "  if remove(qa):\n",
    "    pass\n",
    "  else:\n",
    "    pharmacy_qa_filtered.append(qa)"
   ]
  },
  {
   "cell_type": "code",
   "execution_count": 18,
   "metadata": {},
   "outputs": [
    {
     "data": {
      "text/plain": [
       "{'no': 2,\n",
       " 'question': 'تعد أدوية أو بحكم أدوية (حدد الإجابة الخطأ)',\n",
       " 'answer': {'option_0': 'البدائل الاصطناعية للجهاز العظمي',\n",
       "  'option_1': 'الأدوات المعقمة ذات المنافع الطبية',\n",
       "  'option_2': 'المياه المعدنية الطبية',\n",
       "  'option_3': 'الأمصال والتلاقيح',\n",
       "  'correct_option': 0},\n",
       " 'resource': 'https://www.mehe.gov.lb/ar/OrganizationalStructureFiles/Higher%20EDU/P2010A.pdf'}"
      ]
     },
     "execution_count": 18,
     "metadata": {},
     "output_type": "execute_result"
    }
   ],
   "source": [
    "pharmacy_qa_filtered[0]"
   ]
  },
  {
   "cell_type": "code",
   "execution_count": null,
   "metadata": {},
   "outputs": [],
   "source": [
    "json.dump(pharmacy_qa_filtered, open(\"./pharmacy_qa.json\", \"w\", encoding=\"utf-8\"))"
   ]
  }
 ],
 "metadata": {
  "colab": {
   "authorship_tag": "ABX9TyMAmhc3L6bsoFTU7jLIpNeK",
   "mount_file_id": "1SWBlaZM0Jr5bcfStR4woUI-Pk8RXOR2s",
   "provenance": []
  },
  "kernelspec": {
   "display_name": ".venv",
   "language": "python",
   "name": "python3"
  },
  "language_info": {
   "codemirror_mode": {
    "name": "ipython",
    "version": 3
   },
   "file_extension": ".py",
   "mimetype": "text/x-python",
   "name": "python",
   "nbconvert_exporter": "python",
   "pygments_lexer": "ipython3",
   "version": "3.13.3"
  }
 },
 "nbformat": 4,
 "nbformat_minor": 0
}
