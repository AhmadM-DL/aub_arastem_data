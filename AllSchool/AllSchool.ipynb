{
 "cells": [
  {
   "cell_type": "markdown",
   "metadata": {},
   "source": [
    "### Generate Liks"
   ]
  },
  {
   "cell_type": "code",
   "execution_count": null,
   "metadata": {},
   "outputs": [],
   "source": [
    "import requests\n",
    "from bs4 import BeautifulSoup as bs4"
   ]
  },
  {
   "cell_type": "code",
   "execution_count": 16,
   "metadata": {
    "executionInfo": {
     "elapsed": 7,
     "status": "ok",
     "timestamp": 1716026380811,
     "user": {
      "displayName": "Ahmad Mustapha",
      "userId": "13718654423588217604"
     },
     "user_tz": -180
    },
    "id": "09bPPMdl_zf3"
   },
   "outputs": [],
   "source": [
    "all_school_tests = \"https://www.alloschool.com/course/\""
   ]
  },
  {
   "cell_type": "code",
   "execution_count": 17,
   "metadata": {
    "executionInfo": {
     "elapsed": 336,
     "status": "ok",
     "timestamp": 1716026416153,
     "user": {
      "displayName": "Ahmad Mustapha",
      "userId": "13718654423588217604"
     },
     "user_tz": -180
    },
    "id": "fQz-eOGDwqcc"
   },
   "outputs": [],
   "source": [
    "pages = {\"10\": {\"math\": [\"alriadhiat-aljtha-almshtrk-alom\",\n",
    "                         \"alriadhiat-aljtha-almshtrk-tknoloji\"],\n",
    "                \"physics-chemistry\": [\"alfiziaa-oalkimiaa-aljtha-almshtrk-alom\",\n",
    "                                      \"alfiziaa-oalkimiaa-aljtha-almshtrk-tknoloji\"],\n",
    "                \"biology\": [\"alom-alhiaa-oalardh-aljtha-almshtrk-alom\"]},\n",
    "\n",
    "         \"11\": {\"math\": [\"alriadhiat-alaola-bak-alom-riadhia\",\n",
    "                         \"alriadhiat-alaola-bak-alom-tjribia\",\n",
    "                         \"alriadhiat-alaola-bak-alom-otknolojiat-khrbaiia\",\n",
    "                         \"alriadhiat-alaola-bak-alom-otknolojiat-mikanikia\"],\n",
    "                \"physics-chemistry\": [\"alfiziaa-oalkimiaa-alaola-bak-alom-riadhia\",\n",
    "                                      \"alfiziaa-oalkimiaa-alaola-bak-alom-tjribia\",\n",
    "                                      \"alfiziaa-oalkimiaa-alaola-bak-alom-otknolojiat-khrbaiia\",\n",
    "                                      \"alfiziaa-oalkimiaa-alaola-bak-alom-otknolojiat-mikanikia\"],\n",
    "                \"biology\": [\"alom-alhiaa-oalardh-alaola-bak-alom-riadhia\",\n",
    "                            \"alom-alhiaa-oalardh-alaola-bak-alom-tjribia\"]},\n",
    "\n",
    "         \"12\": {\"math\": [\"alriadhiat-althania-bak-alom-riadhia-awa\",\n",
    "                         \"alriadhiat-althania-bak-alom-riadhia-b\",\n",
    "                         \"alriadhiat-althania-bak-alom-fiziaiia\",\n",
    "                         \"alriadhiat-althania-bak-alom-alhiaa-oalardh\",\n",
    "                         \"alriadhiat-althania-bak-alom-zraaia\",\n",
    "                         \"alriadhiat-althania-bak-alom-otknolojiat-khrbaiia\",\n",
    "                         \"alriadhiat-althania-bak-alom-otknolojiat-mikanikia\"],\n",
    "                \"physics-chemistry\": [\"alfiziaa-oalkimiaa-althania-bak-alom-riadhia-awa\",\n",
    "                                      \"alfiziaa-oalkimiaa-althania-bak-alom-riadhia-b\",\n",
    "                                      \"alfiziaa-oalkimiaa-althania-bak-alom-fiziaiia\",\n",
    "                                      \"alfiziaa-oalkimiaa-althania-bak-alom-alhiaa-oalardh\",\n",
    "                                      \"alfiziaa-oalkimiaa-althania-bak-alom-zraaia\",\n",
    "                                      \"alfiziaa-oalkimiaa-althania-bak-alom-otknolojiat-khrbaiia-1\",\n",
    "                                      \"alfiziaa-oalkimiaa-althania-bak-alom-otknolojiat-mikanikia\"],\n",
    "                \"biology\": [\"alom-alhiaa-oalardh-althania-bak-alom-riadhia-awa\",\n",
    "                            \"alom-alhiaa-oalardh-althania-bak-alom-fiziaiia\",\n",
    "                            \"alom-alhiaa-oalardh-althania-bak-alom-alhiaa-oalardh\",\n",
    "                            \"alom-alhiaa-oalardh-althania-bak-alom-zraaia\"]}\n",
    "        }"
   ]
  },
  {
   "cell_type": "code",
   "execution_count": null,
   "metadata": {
    "colab": {
     "background_save": true
    },
    "id": "papXTqG5_YBc"
   },
   "outputs": [],
   "source": [
    "from collections import defaultdict\n",
    "from urllib.parse import urljoin\n",
    "import json\n",
    "\n",
    "links = defaultdict(list)\n",
    "for grade in pages.keys():\n",
    "  for subject in pages[grade].keys():\n",
    "    for page in pages[grade][subject]:\n",
    "      print(f\"{grade}-{subject}-{page}\")\n",
    "      response = requests.get(urljoin(all_school_tests, str(page)))\n",
    "      html = bs4(response.content)\n",
    "      entries = html.find_all(\"li\", {\"class\":\"element\"})\n",
    "      question_entries = [ e for e in entries if e.find(\"span\", {\"class\":\"mdi\"}) ]\n",
    "      for question_entry in question_entries:\n",
    "        link = question_entry.find(\"a\")[\"href\"]\n",
    "        links[f\"{grade}-{subject}\"].append(link)\n",
    "\n",
    "json.dump(links, open(\"all_school_link.json\", \"w\", encoding=\"utf-8\"))"
   ]
  },
  {
   "cell_type": "markdown",
   "metadata": {},
   "source": [
    "### Generate QA Raw"
   ]
  },
  {
   "cell_type": "code",
   "execution_count": 19,
   "metadata": {
    "executionInfo": {
     "elapsed": 309,
     "status": "ok",
     "timestamp": 1716027037146,
     "user": {
      "displayName": "Ahmad Mustapha",
      "userId": "13718654423588217604"
     },
     "user_tz": -180
    },
    "id": "ceCtpqHBGLGP"
   },
   "outputs": [],
   "source": [
    "import json\n",
    "import requests\n",
    "from bs4 import BeautifulSoup as bs4\n",
    "from collections import defaultdict\n",
    "\n",
    "def get_questions_payload(all_school_html_test_form):\n",
    "  payload = {}\n",
    "  payload[\"test_id\"] = all_school_html_test_form.find(\"input\", {\"type\":\"hidden\", \"name\":\"test_id\"})[\"value\"]\n",
    "  payload[\"time\"] = all_school_html_test_form.find(\"input\", {\"type\":\"hidden\", \"name\":\"time\"})[\"value\"]\n",
    "  payload[\"single_response\"] = all_school_html_test_form.find(\"input\", {\"type\":\"hidden\", \"name\":\"single_response\"})[\"value\"]\n",
    "\n",
    "  # Get all questions\n",
    "  questions = all_school_html_test_form.find_all(\"div\", {\"class\": \"question-mcq\"})\n",
    "\n",
    "  # Collect ansersw name-value\n",
    "  for question in questions:\n",
    "    # Answers hidden variables\n",
    "    question_answers = question.find_all(\"input\", {\"type\":\"hidden\"})\n",
    "    for question_answer in question_answers:\n",
    "      payload[question_answer[\"name\"]] = question_answer[\"value\"]\n",
    "  payload[\"submit\"] = \"\"\n",
    "  return payload\n",
    "\n",
    "def process_question_answer(allschool_question_answer_html):\n",
    "  question_answer = {}\n",
    "  question_answer[\"question\"] = allschool_question_answer_html.find(\"div\", {\"class\": \"question-question\"}).decode_contents()\n",
    "  question_answer[\"answer\"]= {}\n",
    "  options_div =  allschool_question_answer_html.find(\"div\", {\"class\": \"question-answers\"})\n",
    "  options =  options_div.find_all(\"div\", recursive=False)\n",
    "  correct_options = []\n",
    "  for i,option in enumerate(options):\n",
    "    question_answer[\"answer\"][f\"option_{i}\"] = option.find(\"label\").decode_contents()\n",
    "    if option.find(\"span\", {\"class\": \"mdi-checkbox-marked-outline\"}): correct_options.append(i)\n",
    "  question_answer[\"answer\"][\"correct_options\"] = correct_options\n",
    "  return question_answer"
   ]
  },
  {
   "cell_type": "code",
   "execution_count": null,
   "metadata": {
    "id": "iSDX9PJwtdoV"
   },
   "outputs": [],
   "source": [
    "from collections import defaultdict\n",
    "import json\n",
    "\n",
    "total_question_answers= defaultdict(list)\n",
    "links = json.load(open(\"all_school_link.json\", \"r\"))\n",
    "for grade_subject in links.keys():\n",
    "  print(grade_subject)\n",
    "  for link in links[grade_subject]:\n",
    "    print(link)\n",
    "    s = requests.Session()\n",
    "    # Generate payload\n",
    "    payload = {}\n",
    "    response = s.get(link)\n",
    "    if(response.status_code != 200):\n",
    "      print(\"Failed!\")\n",
    "      continue\n",
    "    html = bs4(response.content)\n",
    "    form = html.find(\"form\", {\"class\":\"form-horizontal my-4\"})\n",
    "    payload = get_questions_payload(form)\n",
    "    # Get Answers\n",
    "    response = s.post(\"https://www.alloschool.com/test/submit\", data=payload)\n",
    "    html = bs4(response.content)\n",
    "    answers = html.find_all(\"div\", {\"class\": \"question-mcq\"})\n",
    "    for answer_div in answers:\n",
    "      answer = process_question_answer(answer_div)\n",
    "      answer[\"link\"]=link\n",
    "      total_question_answers[grade_subject].append(answer)\n",
    "    break\n",
    "json.dump(total_question_answers, open(\"allschool_qa_raw.json\", \"w\", encoding=\"utf-8\"))"
   ]
  },
  {
   "cell_type": "markdown",
   "metadata": {},
   "source": [
    "### Generate QA\n"
   ]
  },
  {
   "cell_type": "code",
   "execution_count": 21,
   "metadata": {},
   "outputs": [],
   "source": [
    "from bs4 import BeautifulSoup\n",
    "import re\n",
    "from collections import defaultdict\n",
    "import json"
   ]
  },
  {
   "cell_type": "code",
   "execution_count": 22,
   "metadata": {},
   "outputs": [],
   "source": [
    "def filter_out(question_answer):\n",
    "  filter_out_b = False\n",
    "  mathjax = '<math'\n",
    "  img = '<img'\n",
    "  table = '<table'\n",
    "  question = question_answer[\"question\"]\n",
    "  options = [v for k,v in question_answer[\"answer\"].items() if \"option\" in k]\n",
    "  for option in options:\n",
    "    if mathjax in option or img in option or table in option:\n",
    "      filter_out_b = True\n",
    "      break\n",
    "  if mathjax in question or img in question or table in question:\n",
    "    filter_out_b= True\n",
    "  return filter_out_b"
   ]
  },
  {
   "cell_type": "code",
   "execution_count": null,
   "metadata": {},
   "outputs": [],
   "source": [
    "allschool_qa = json.load(open(\"allschool_qa_raw.json\", encoding=\"utf-8\"))"
   ]
  },
  {
   "cell_type": "code",
   "execution_count": 37,
   "metadata": {},
   "outputs": [],
   "source": [
    "# propagate multi questions\n",
    "fixed_qa= defaultdict(list)\n",
    "for grade_subject in allschool_qa.keys():\n",
    "  question_answers = allschool_qa[grade_subject]\n",
    "  anchor_question = \"\"\n",
    "  for question_answer in question_answers:\n",
    "    title = BeautifulSoup(question_answer[\"question\"]).find(\"u\")\n",
    "    order = re.search(r'(\\d+)/(\\d+)', title.text) if title else \"\"\n",
    "    # if order:\n",
    "    #   print(f\"{title} - {order} - {order.group(1)}/{order.group(2)} - {question_answer['link']}\")\n",
    "    if order:\n",
    "      if order.group(1)=='1':\n",
    "        fixed_qa[grade_subject].append(question_answer)\n",
    "        elements = BeautifulSoup(question_answer[\"question\"])\n",
    "        last_p_tag = elements.find_all('p')[-1].decompose()\n",
    "        anchor_question = elements.decode_contents()\n",
    "        # print(f\"Anchor: {anchor_question}\")\n",
    "      else:\n",
    "        question_answer[\"question\"] = anchor_question + question_answer[\"question\"]\n",
    "        fixed_qa[grade_subject].append(question_answer)\n",
    "        # print(f\"Propagated: {question_answer['question']}\")\n",
    "    else:\n",
    "      fixed_qa[grade_subject].append(question_answer)"
   ]
  },
  {
   "cell_type": "code",
   "execution_count": 39,
   "metadata": {},
   "outputs": [],
   "source": [
    "# filter mathjax, img questions\n",
    "filtered_qa= defaultdict(list)\n",
    "for grade_subject in fixed_qa.keys():\n",
    "  question_answers = fixed_qa[grade_subject]\n",
    "  for question_answer in question_answers:\n",
    "    if not filter_out(question_answer):\n",
    "      filtered_qa[grade_subject].append(question_answer)"
   ]
  },
  {
   "cell_type": "code",
   "execution_count": null,
   "metadata": {},
   "outputs": [],
   "source": [
    "# filter mcq with 2 or more options\n",
    "filtered_qa_2= defaultdict(list)\n",
    "for grade_subject in filtered_qa.keys():\n",
    "  question_answers = filtered_qa[grade_subject]\n",
    "  for question_answer in question_answers:\n",
    "    if len(question_answer[\"answer\"][\"correct_options\"])==1:\n",
    "      filtered_qa_2[grade_subject].append(question_answer)"
   ]
  },
  {
   "cell_type": "code",
   "execution_count": 41,
   "metadata": {},
   "outputs": [],
   "source": [
    "# textify content\n",
    "textified_qa= defaultdict(list)\n",
    "for grade_subject in filtered_qa_2.keys():\n",
    "  question_answers = filtered_qa_2[grade_subject]\n",
    "  for question_answer in question_answers:\n",
    "\n",
    "    question = BeautifulSoup(question_answer[\"question\"])\n",
    "    _ = [u.decompose() for u in question.find_all('u')]\n",
    "    _ = [s.decompose() for s in question.find_all('strong')]\n",
    "    question_answer[\"question\"] = question.text.strip()\n",
    "\n",
    "    for k, v in  question_answer[\"answer\"].items():\n",
    "      if k == \"correct_options\":\n",
    "        question_answer[\"answer\"][k] = v[0] # set options to one value not array\n",
    "        continue\n",
    "      question_answer[\"answer\"][k] = BeautifulSoup(v).text.strip()\n",
    "\n",
    "    textified_qa[grade_subject].append(question_answer)"
   ]
  },
  {
   "cell_type": "code",
   "execution_count": 42,
   "metadata": {},
   "outputs": [],
   "source": [
    "all_school_columnar=[]\n",
    "for grade_subject in textified_qa.keys():\n",
    "  grade, subject = grade_subject.replace(\"physics-chemistry\", \"physics_chemistry\").split(\"-\")\n",
    "  for qa in textified_qa[grade_subject]:\n",
    "    columnar = {}\n",
    "    columnar[\"grade\"] = grade\n",
    "    columnar[\"subject\"] = subject.replace(\"_\", \"-\")\n",
    "    columnar[\"question_text\"] = qa[\"question\"]\n",
    "    columnar[\"option_0_text\"] = qa[\"answer\"][\"option_0\"] if \"option_0\" in qa[\"answer\"] else \"\"\n",
    "    columnar[\"option_1_text\"] = qa[\"answer\"][\"option_1\"] if \"option_1\" in qa[\"answer\"] else \"\"\n",
    "    columnar[\"option_2_text\"] = qa[\"answer\"][\"option_2\"] if \"option_2\" in qa[\"answer\"] else \"\"\n",
    "    columnar[\"option_3_text\"] = qa[\"answer\"][\"option_3\"] if \"option_3\" in qa[\"answer\"] else \"\"\n",
    "    columnar[\"correct_option\"] = qa[\"answer\"][\"correct_options\"]\n",
    "    columnar[\"link\"] = qa[\"link\"]\n",
    "    all_school_columnar.append(columnar)"
   ]
  },
  {
   "cell_type": "code",
   "execution_count": 44,
   "metadata": {},
   "outputs": [],
   "source": [
    "import pandas as pd\n",
    "all_school_df = pd.DataFrame(all_school_columnar)\n",
    "# Remove Duplicates\n",
    "all_school_df = all_school_df.drop_duplicates(subset=['question_text'])"
   ]
  },
  {
   "cell_type": "code",
   "execution_count": 45,
   "metadata": {},
   "outputs": [],
   "source": [
    "questions = []\n",
    "for i, row in all_school_df.iterrows():\n",
    "  question = {}\n",
    "  question[\"question\"] = row[\"question_text\"].strip()\n",
    "  question[\"answer\"] = {}\n",
    "  for i in [0, 1, 2, 3]:\n",
    "    question[\"answer\"][f\"option_{i}\"] = row[f\"option_{i}_text\"]\n",
    "  question[\"answer\"][f\"correct_option\"] = row[\"correct_option\"]\n",
    "  question[\"grade\"] = row[\"grade\"]\n",
    "  question[\"subject\"] = row[\"subject\"]\n",
    "  question[\"resource\"] = row[\"link\"]\n",
    "  questions.append(question)"
   ]
  },
  {
   "cell_type": "code",
   "execution_count": 46,
   "metadata": {},
   "outputs": [
    {
     "data": {
      "text/plain": [
       "{'question': 'القاسم المشترك الأكبر ل 1386 و 4620 هو',\n",
       " 'answer': {'option_0': '770',\n",
       "  'option_1': '462',\n",
       "  'option_2': '154',\n",
       "  'option_3': '110',\n",
       "  'correct_option': 1},\n",
       " 'grade': '10',\n",
       " 'subject': 'math',\n",
       " 'resource': 'https://www.alloschool.com/element/19994'}"
      ]
     },
     "execution_count": 46,
     "metadata": {},
     "output_type": "execute_result"
    }
   ],
   "source": [
    "questions[0]"
   ]
  },
  {
   "cell_type": "code",
   "execution_count": null,
   "metadata": {},
   "outputs": [],
   "source": [
    "json.dump(questions, open(\"allschool_qa.json\", \"w\", encoding=\"utf-8\"), ensure_ascii=False)"
   ]
  }
 ],
 "metadata": {
  "colab": {
   "authorship_tag": "ABX9TyPmQaYgHwlltqFoKHd81cLB",
   "mount_file_id": "1nvfO-EcjUEVjZZ-NN9Kk5hb62IpWy4sU",
   "name": "",
   "version": ""
  },
  "kernelspec": {
   "display_name": ".venv",
   "language": "python",
   "name": "python3"
  },
  "language_info": {
   "codemirror_mode": {
    "name": "ipython",
    "version": 3
   },
   "file_extension": ".py",
   "mimetype": "text/x-python",
   "name": "python",
   "nbconvert_exporter": "python",
   "pygments_lexer": "ipython3",
   "version": "3.13.3"
  }
 },
 "nbformat": 4,
 "nbformat_minor": 0
}
