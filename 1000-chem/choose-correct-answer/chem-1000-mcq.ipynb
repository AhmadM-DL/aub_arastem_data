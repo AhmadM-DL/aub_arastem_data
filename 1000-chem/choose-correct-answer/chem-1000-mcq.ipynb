{
 "cells": [
  {
   "cell_type": "code",
   "execution_count": 2,
   "metadata": {
    "executionInfo": {
     "elapsed": 1173,
     "status": "ok",
     "timestamp": 1716821563873,
     "user": {
      "displayName": "Ahmad Mustapha",
      "userId": "13718654423588217604"
     },
     "user_tz": -180
    },
    "id": "XFYHuJC_Y1iJ"
   },
   "outputs": [],
   "source": [
    "items= []\n",
    "text_filename = \"choose-the-correct-answer.txt\"\n",
    "text_file = open(text_filename, \"r\", encoding=\"utf8\").read()"
   ]
  },
  {
   "cell_type": "code",
   "execution_count": 3,
   "metadata": {
    "executionInfo": {
     "elapsed": 7,
     "status": "ok",
     "timestamp": 1716821563874,
     "user": {
      "displayName": "Ahmad Mustapha",
      "userId": "13718654423588217604"
     },
     "user_tz": -180
    },
    "id": "oJnncwUOZpYy"
   },
   "outputs": [],
   "source": [
    "import json\n",
    "questions = []\n",
    "items = text_file.split(\"#\")\n",
    "for item in items:\n",
    "  if not item.strip(): continue\n",
    "  question = {}\n",
    "  parts = item.strip().split(\"\\n\")\n",
    "  question[\"question\"] = parts[0].strip()\n",
    "  question[\"answer\"] = {}\n",
    "  for i, option in enumerate(parts[1:]):\n",
    "    question[\"answer\"][f\"option_{i}\"] = \"-\".join(option.split(\"-\")[1:]).replace(\"$\",\"\").strip()\n",
    "    if \"$\" in option:\n",
    "      correct_option = i\n",
    "  question[\"answer\"][\"correct_option\"] =  correct_option\n",
    "  questions.append(question)"
   ]
  },
  {
   "cell_type": "code",
   "execution_count": 4,
   "metadata": {},
   "outputs": [
    {
     "data": {
      "text/plain": [
       "{'question': 'لترسيب نصف الذرة الجرامية فقط من فلز النحاسIIيلزم. ...كولوم؟',\n",
       " 'answer': {'option_0': '19300',\n",
       "  'option_1': '9650',\n",
       "  'option_2': '3475',\n",
       "  'option_3': '96500',\n",
       "  'correct_option': 3}}"
      ]
     },
     "execution_count": 4,
     "metadata": {},
     "output_type": "execute_result"
    }
   ],
   "source": [
    "questions[0]"
   ]
  },
  {
   "cell_type": "code",
   "execution_count": null,
   "metadata": {
    "executionInfo": {
     "elapsed": 6,
     "status": "ok",
     "timestamp": 1716821567101,
     "user": {
      "displayName": "Ahmad Mustapha",
      "userId": "13718654423588217604"
     },
     "user_tz": -180
    },
    "id": "B8qbHUtEZuhn"
   },
   "outputs": [],
   "source": [
    "json.dump(questions, open(\"1000-chem-mcq-qa.json\", \"w\", encoding=\"utf-8\"), ensure_ascii=False)"
   ]
  }
 ],
 "metadata": {
  "colab": {
   "authorship_tag": "ABX9TyMWG8gVy7TwaYsMYJNRjkqw",
   "mount_file_id": "1Ry5rau0Gk9dCjpZIc801SPQzK12M-H_k",
   "provenance": []
  },
  "kernelspec": {
   "display_name": ".venv",
   "language": "python",
   "name": "python3"
  },
  "language_info": {
   "codemirror_mode": {
    "name": "ipython",
    "version": 3
   },
   "file_extension": ".py",
   "mimetype": "text/x-python",
   "name": "python",
   "nbconvert_exporter": "python",
   "pygments_lexer": "ipython3",
   "version": "3.13.3"
  }
 },
 "nbformat": 4,
 "nbformat_minor": 0
}
