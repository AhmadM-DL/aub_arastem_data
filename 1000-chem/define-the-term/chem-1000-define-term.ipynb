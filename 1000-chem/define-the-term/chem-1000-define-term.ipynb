{
 "cells": [
  {
   "cell_type": "code",
   "execution_count": 2,
   "metadata": {
    "id": "c8X7X-NIclHj"
   },
   "outputs": [],
   "source": [
    "items= []\n",
    "text_filename = \"define-the-term.txt\"\n",
    "text_file = open(text_filename, \"r\", encoding=\"utf8\").read()\n",
    "lines = text_file.split(\"#\")\n",
    "for line in lines:\n",
    "  if line.strip():\n",
    "    item = {}\n",
    "    term = line.split(\":\")[0]\n",
    "    meaning = \":\".join(line.split(\":\")[1:])\n",
    "    term = term.replace(\"#\", \"\").strip()\n",
    "    item[\"term\"] = term\n",
    "    item[\"meaning\"] = meaning.strip()\n",
    "    items.append(item)"
   ]
  },
  {
   "cell_type": "code",
   "execution_count": 3,
   "metadata": {
    "id": "kdavPk4Ed0p3"
   },
   "outputs": [
    {
     "data": {
      "text/html": [
       "<div dir='rtl'><p>عملية يتم فيهـا فقـد إلكترونـات، وينـتج عنهـا زيـادة عـدد التأكسـد للعنصر</p><p>عملية يتم فيها اكتساب الإلكترونات وينتج عنها نقصان عـدد التأكسـد للعنصر</p><p>هو المادة التي تختزل والتـي تحتـوي عـلى عـنصر يـنقص عـدد تأكسده أثناء التفاعل الكيميائي</p><p>هي المادة التي تتأكسد والتـي تحتـوي عـلى عـنصر يـزداد عـدد تأكسده أثناء التفاعل الكيميائي</p><p>هــي الشــحنات الكهربائيــة التــي تحملهــا الــذرات في المركبــات الكيميائية</p><p>عـدد الإلكترونـات التـي يشـارك بهـا أو يكتسـبها أو يفقـدها ذرة العنصر للوصول إلى حالة الاستقرار</p><p>هي عبارة عن جهاز يتم فيه تحويل الطاقة الكيميائية إلى طاقة كهربائية والعكس</p><p>القوة التي تسـبب حركـة الإلكترونـات وانتقالهـا في السـلك الموصل بين قطبي الخلية</p><p>هي الأيونات الموجبة والسالبة للمركبات الأيونية الموجـودة داخـل الخلية على هيئة مصاهير أو محاليل إلكتروليتية</p><p>فرق الجهد بين قطب المادة وقطب الهيدروجين القياسي</p><p>غمس الحديـد في مصـهور فلـز لـه جهـد أكسـدة أعـلى مـن جهـد أكسـدة الحديد</p><p>توصـيل الحديـد بقطـب مـن الماغنيسـيوم أو الخارصـين ويكـون الخارصين هو المصعد والحديد هو المهبط</p><p>تفاعل الأكسـدة وإختـزال غـير التلقـائي الـذي يحـدث في الخليـة الإلكتروليتية بفعل الطاقة الكهرباية التي تستمدها الخلية من مصدر خارجي</p><p>الكتلــة التــي لهــا القــدرة عــلى اكتســاب أو فقــد مــول واحــد مــن الإلكترونات أثناء التفاعل الكيميائي.الكتلة المكافئة =الكتلة المولية )الكتلة الذرية /(التكافؤ</p><p>كمية الكهرباء التي تعادل شحنة مول واحد من الإلكترونات ولهـا القـدرة على ترسيب مكافئ جرامي )كتلة مكافئة (من أي عنصر</p><p>رابطة تساهمية تساهم فيها إحدى الذرتين بالزوج الإلكتروني الرابط بينما يقتصر دور الذرة الأخرى على المساهمة بمجال فارغ، والرابطة التناسقية تتكون بين )ذرة مانحة (تتكون عليها شحنة موجبـة و )ذرة مسـتقبلة( تتكـون عليهـا شـحنة سـالبة ويشار إلى الرابطة التناسقية عادة بسهم يتجه من الذرة المانحة إلى الذرة المستقبلة.</p></div>"
      ],
      "text/plain": [
       "<IPython.core.display.HTML object>"
      ]
     },
     "execution_count": 3,
     "metadata": {},
     "output_type": "execute_result"
    }
   ],
   "source": [
    "from IPython.display import HTML\n",
    "sample = [ '<p>' + i['meaning'] + '</p>' for i in items]\n",
    "HTML(f\"<div dir='rtl'>{''.join(sample)}</div>\")"
   ]
  },
  {
   "cell_type": "code",
   "execution_count": 4,
   "metadata": {
    "id": "595Wj9Cld1A9"
   },
   "outputs": [],
   "source": [
    "import random\n",
    "import json\n",
    "questions = []\n",
    "enumerated_items = {id:q for id,q in enumerate(items)}\n",
    "for id, item in enumerated_items.items():\n",
    "  correct_option = random.randint(0,3)\n",
    "  random_ids = random.sample([k for k in enumerated_items.keys() if k!=id], 4)\n",
    "  question= {}\n",
    "  question[\"question\"] = \"إختر تعريف مصطلح الكيمياء التالي: \" + item[\"term\"]\n",
    "  question[\"answer\"] = {}\n",
    "  for i in [0, 1, 2, 3]:\n",
    "    if i==correct_option:\n",
    "      question[\"answer\"][f\"option_{correct_option}\"] = item[\"meaning\"]\n",
    "    else:\n",
    "      question[\"answer\"][f\"option_{i}\"] = enumerated_items[random_ids[i]][\"meaning\"]\n",
    "  question[\"answer\"][\"correct_option\"] = correct_option\n",
    "  questions.append(question)"
   ]
  },
  {
   "cell_type": "code",
   "execution_count": 5,
   "metadata": {},
   "outputs": [
    {
     "data": {
      "text/plain": [
       "{'question': 'إختر تعريف مصطلح الكيمياء التالي: الأكسدة',\n",
       " 'answer': {'option_0': 'عملية يتم فيهـا فقـد إلكترونـات، وينـتج عنهـا زيـادة عـدد التأكسـد للعنصر',\n",
       "  'option_1': 'الكتلــة التــي لهــا القــدرة عــلى اكتســاب أو فقــد مــول واحــد مــن الإلكترونات أثناء التفاعل الكيميائي.الكتلة المكافئة =الكتلة المولية )الكتلة الذرية /(التكافؤ',\n",
       "  'option_2': 'عملية يتم فيها اكتساب الإلكترونات وينتج عنها نقصان عـدد التأكسـد للعنصر',\n",
       "  'option_3': 'رابطة تساهمية تساهم فيها إحدى الذرتين بالزوج الإلكتروني الرابط بينما يقتصر دور الذرة الأخرى على المساهمة بمجال فارغ، والرابطة التناسقية تتكون بين )ذرة مانحة (تتكون عليها شحنة موجبـة و )ذرة مسـتقبلة( تتكـون عليهـا شـحنة سـالبة ويشار إلى الرابطة التناسقية عادة بسهم يتجه من الذرة المانحة إلى الذرة المستقبلة.',\n",
       "  'correct_option': 0}}"
      ]
     },
     "execution_count": 5,
     "metadata": {},
     "output_type": "execute_result"
    }
   ],
   "source": [
    "questions[0]"
   ]
  },
  {
   "cell_type": "code",
   "execution_count": null,
   "metadata": {
    "executionInfo": {
     "elapsed": 396,
     "status": "ok",
     "timestamp": 1716820494303,
     "user": {
      "displayName": "Ahmad Mustapha",
      "userId": "13718654423588217604"
     },
     "user_tz": -180
    },
    "id": "Rh9cKx_cd5qn"
   },
   "outputs": [],
   "source": [
    "json.dump(questions, open(\"1000-chem-define-qa.json\", \"w\", encoding=\"utf-8\"), ensure_ascii=False)"
   ]
  }
 ],
 "metadata": {
  "colab": {
   "authorship_tag": "ABX9TyOe+7yBlNS/szUE8eKZemL6",
   "mount_file_id": "1NIHjMO6QW4Oueb6ABCuurX-7N3YD8zVc",
   "provenance": []
  },
  "kernelspec": {
   "display_name": ".venv",
   "language": "python",
   "name": "python3"
  },
  "language_info": {
   "codemirror_mode": {
    "name": "ipython",
    "version": 3
   },
   "file_extension": ".py",
   "mimetype": "text/x-python",
   "name": "python",
   "nbconvert_exporter": "python",
   "pygments_lexer": "ipython3",
   "version": "3.13.3"
  }
 },
 "nbformat": 4,
 "nbformat_minor": 0
}
