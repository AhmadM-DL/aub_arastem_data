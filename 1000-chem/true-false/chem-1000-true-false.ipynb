{
 "cells": [
  {
   "cell_type": "code",
   "execution_count": 1,
   "metadata": {
    "id": "SNj1Y_eze-qw"
   },
   "outputs": [],
   "source": [
    "text_filename = \"true-false.txt\"\n",
    "text_file = open(text_filename, \"r\", encoding=\"utf-8\").read()\n",
    "lines = text_file.split(\"\\n\")"
   ]
  },
  {
   "cell_type": "code",
   "execution_count": 2,
   "metadata": {
    "id": "WB0uoKC_frlO"
   },
   "outputs": [],
   "source": [
    "import re\n",
    "questions = []\n",
    "for line in lines:\n",
    "  if line.strip():\n",
    "    line = re.sub(r\"\\d\\d\\d-\", \"\", line)\n",
    "    is_true = \"$\" in line\n",
    "    question= {}\n",
    "    question[\"question\"] = line.replace(\"$\", \"\")\n",
    "    question[\"answer\"] = {}\n",
    "    question[\"answer\"][f\"option_{0}\"] = \"صح\"\n",
    "    question[\"answer\"][f\"option_{1}\"] = \"خطأ\"\n",
    "    question[\"answer\"][f\"correct_option\"] = 0 if is_true else 1\n",
    "    questions.append(question)"
   ]
  },
  {
   "cell_type": "code",
   "execution_count": 3,
   "metadata": {},
   "outputs": [
    {
     "data": {
      "text/plain": [
       "{'question': ' مجموع النسب المئوية الكتلية للعناصر الداخلة فى تركيب المركب يساوى 100%',\n",
       " 'answer': {'option_0': 'صح', 'option_1': 'خطأ', 'correct_option': 0}}"
      ]
     },
     "execution_count": 3,
     "metadata": {},
     "output_type": "execute_result"
    }
   ],
   "source": [
    "questions[0]"
   ]
  },
  {
   "cell_type": "code",
   "execution_count": null,
   "metadata": {
    "executionInfo": {
     "elapsed": 2,
     "status": "ok",
     "timestamp": 1716821262047,
     "user": {
      "displayName": "Ahmad Mustapha",
      "userId": "13718654423588217604"
     },
     "user_tz": -180
    },
    "id": "3jrgwwDQg9HL"
   },
   "outputs": [],
   "source": [
    "import json\n",
    "json.dump(questions, open(\"1000-chem-true-false-qa.json\", \"w\"), ensure_ascii=False)"
   ]
  }
 ],
 "metadata": {
  "colab": {
   "authorship_tag": "ABX9TyNIWYnXQPrsLpwXFJXY0CdN",
   "mount_file_id": "1oEYfy9ptSQsmBh1EmNIDZWEMl72dUgxl",
   "provenance": []
  },
  "kernelspec": {
   "display_name": ".venv",
   "language": "python",
   "name": "python3"
  },
  "language_info": {
   "codemirror_mode": {
    "name": "ipython",
    "version": 3
   },
   "file_extension": ".py",
   "mimetype": "text/x-python",
   "name": "python",
   "nbconvert_exporter": "python",
   "pygments_lexer": "ipython3",
   "version": "3.13.3"
  }
 },
 "nbformat": 4,
 "nbformat_minor": 0
}
